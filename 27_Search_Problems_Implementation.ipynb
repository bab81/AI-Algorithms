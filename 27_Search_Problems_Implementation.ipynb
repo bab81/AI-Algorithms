{
  "nbformat": 4,
  "nbformat_minor": 0,
  "metadata": {
    "colab": {
      "provenance": [],
      "include_colab_link": true
    },
    "kernelspec": {
      "name": "python3",
      "display_name": "Python 3"
    }
  },
  "cells": [
    {
      "cell_type": "markdown",
      "metadata": {
        "id": "view-in-github",
        "colab_type": "text"
      },
      "source": [
        "<a href=\"https://colab.research.google.com/github/bab81/AI-Algorithms/blob/main/27_Search_Problems_Implementation.ipynb\" target=\"_parent\"><img src=\"https://colab.research.google.com/assets/colab-badge.svg\" alt=\"Open In Colab\"/></a>"
      ]
    },
    {
      "cell_type": "markdown",
      "metadata": {
        "id": "Ik3cWVftIDOP"
      },
      "source": [
        "#Tree Search – Backtracking Algorithm – Recursive Implementation"
      ]
    },
    {
      "cell_type": "markdown",
      "metadata": {
        "id": "4hdDKXisEbVk"
      },
      "source": [
        "## Mini Sudoku\n",
        "\n",
        "Dimension: 3 by 3"
      ]
    },
    {
      "cell_type": "markdown",
      "metadata": {
        "id": "Qf2Bvx_pJNyE"
      },
      "source": [
        "### 1. Forming your board"
      ]
    },
    {
      "cell_type": "code",
      "metadata": {
        "id": "ObknHFRRcFq7"
      },
      "source": [
        "Board = [ [ 0 , 0 , 0 ],\n",
        "          [ 1 , 0 , 0 ],\n",
        "          [ 0 , 3 , 1 ] ]"
      ],
      "execution_count": 1,
      "outputs": []
    },
    {
      "cell_type": "code",
      "metadata": {
        "colab": {
          "base_uri": "https://localhost:8080/"
        },
        "id": "J4vvjNjqlUaM",
        "outputId": "0c4f8a3a-181b-47ef-e802-74d52a7bf63b"
      },
      "source": [
        "Board"
      ],
      "execution_count": 2,
      "outputs": [
        {
          "output_type": "execute_result",
          "data": {
            "text/plain": [
              "[[0, 0, 0], [1, 0, 0], [0, 3, 1]]"
            ]
          },
          "metadata": {},
          "execution_count": 2
        }
      ]
    },
    {
      "cell_type": "code",
      "metadata": {
        "colab": {
          "base_uri": "https://localhost:8080/"
        },
        "id": "Kty9NzVkcLpE",
        "outputId": "8167824c-0281-4eca-fb86-e05608842cd1"
      },
      "source": [
        "for item in list(zip(*Board)):\n",
        "  print (item)"
      ],
      "execution_count": 7,
      "outputs": [
        {
          "output_type": "stream",
          "name": "stdout",
          "text": [
            "(0, 1, 0)\n",
            "(0, 0, 3)\n",
            "(0, 0, 1)\n"
          ]
        }
      ]
    },
    {
      "cell_type": "markdown",
      "metadata": {
        "id": "7I28xtcwJ_IV"
      },
      "source": [
        "### 2. Forming your checks\n",
        "\n",
        "Repeated values in rows, columns are not acceptable.\n"
      ]
    },
    {
      "cell_type": "code",
      "metadata": {
        "id": "epBGBkdhKbpd"
      },
      "source": [
        "def board_valid(brd):\n",
        "  for row in brd:\n",
        "    used=[]\n",
        "    for element in row:\n",
        "      if element!=0 and element in used:\n",
        "        return False\n",
        "      else:\n",
        "        used.append(element)\n",
        "  for col in zip(*brd):\n",
        "    used=[]\n",
        "    for element in col:\n",
        "      if element!=0 and element in used:\n",
        "        return False\n",
        "      else:\n",
        "        used.append(element)\n",
        "  return True"
      ],
      "execution_count": 8,
      "outputs": []
    },
    {
      "cell_type": "markdown",
      "metadata": {
        "id": "5Qey-JrF0iSP"
      },
      "source": [
        "### 3. Board filled? "
      ]
    },
    {
      "cell_type": "code",
      "metadata": {
        "id": "nfwqTm-30rfP"
      },
      "source": [
        "def board_filled(brd):\n",
        "  for row in brd:\n",
        "    for element in row:\n",
        "      if element==0:\n",
        "        return False\n",
        "  return True"
      ],
      "execution_count": 9,
      "outputs": []
    },
    {
      "cell_type": "markdown",
      "metadata": {
        "id": "8QeyuTuR0GZI"
      },
      "source": [
        "### 3. Forming your program"
      ]
    },
    {
      "cell_type": "code",
      "metadata": {
        "id": "VtNyRqCi0LiP"
      },
      "source": [
        "def solver(brd):\n",
        "  if board_filled(brd):\n",
        "    if board_valid(brd):\n",
        "      return (brd)\n",
        "    else:\n",
        "      return None\n",
        "  else:\n",
        "    for i in [0,1,2]:\n",
        "      for j in [0,1,2]:\n",
        "        if brd[i][j]==0:\n",
        "          for test in [1,2,3]:\n",
        "            brd[i][j]=test\n",
        "            if board_valid(brd) and solver(brd)!=None:\n",
        "                return (brd)\n",
        "            else:\n",
        "              brd[i][j]=0"
      ],
      "execution_count": 66,
      "outputs": []
    },
    {
      "cell_type": "markdown",
      "metadata": {
        "id": "RMy5lbkQ3YoH"
      },
      "source": [
        "### 4. Run your code"
      ]
    },
    {
      "cell_type": "code",
      "metadata": {
        "id": "cw5BNtDo3cD-"
      },
      "source": [
        "Board = [ [ 0 , 0 , 0 ],\n",
        "          [ 1 , 0 , 0 ],\n",
        "          [ 0 , 3 , 1 ] ]"
      ],
      "execution_count": 67,
      "outputs": []
    },
    {
      "cell_type": "code",
      "metadata": {
        "id": "IV0q5RsbV5RV"
      },
      "source": [
        "solution=solver(Board)"
      ],
      "execution_count": 68,
      "outputs": []
    },
    {
      "cell_type": "code",
      "source": [
        "for row in solution:\n",
        "  print (row)"
      ],
      "metadata": {
        "colab": {
          "base_uri": "https://localhost:8080/"
        },
        "id": "kJj5uUQB5Qoy",
        "outputId": "faf766c6-672b-4c7f-8205-8619713bc87f"
      },
      "execution_count": 69,
      "outputs": [
        {
          "output_type": "stream",
          "name": "stdout",
          "text": [
            "[3, 1, 2]\n",
            "[1, 2, 3]\n",
            "[2, 3, 1]\n"
          ]
        }
      ]
    },
    {
      "cell_type": "markdown",
      "metadata": {
        "id": "I7gg5GcfJWhk"
      },
      "source": [
        "## Tic-Tac-Toe"
      ]
    },
    {
      "cell_type": "markdown",
      "metadata": {
        "id": "gKhClpvBIVpO"
      },
      "source": [
        "### 1. Forming your board"
      ]
    },
    {
      "cell_type": "code",
      "metadata": {
        "id": "uhlXqf6oINIF"
      },
      "source": [
        "#Choices 'X' and 'O' and '_' for empty\n",
        "board = [\n",
        "    ['_', '_', '_'],\n",
        "    ['_', '_', '_'],\n",
        "    ['_', '_', '_'],\n",
        "]"
      ],
      "execution_count": 70,
      "outputs": []
    },
    {
      "cell_type": "markdown",
      "metadata": {
        "id": "oQ6yu-qbI7u8"
      },
      "source": [
        "### 2. Forming your checks"
      ]
    },
    {
      "cell_type": "code",
      "metadata": {
        "id": "TnSnly6mEVla"
      },
      "source": [
        "#Game finished? who is the winner?\n",
        "def evaluate(brd):\n",
        "    win_cases = [\n",
        "        [brd[0][0], brd[0][1], brd[0][2]],\n",
        "        [brd[1][0], brd[1][1], brd[1][2]],\n",
        "        [brd[2][0], brd[2][1], brd[2][2]],\n",
        "        [brd[0][0], brd[1][0], brd[2][0]],\n",
        "        [brd[0][1], brd[1][1], brd[2][1]],\n",
        "        [brd[0][2], brd[1][2], brd[2][2]],\n",
        "        [brd[0][0], brd[1][1], brd[2][2]],\n",
        "        [brd[2][0], brd[1][1], brd[0][2]],\n",
        "    ]\n",
        "    if ['X','X','X'] in win_cases:\n",
        "      score=1\n",
        "    elif ['O','O','O'] in win_cases:\n",
        "      score=-1\n",
        "    else:\n",
        "      score = 0\n",
        "    return score"
      ],
      "execution_count": 71,
      "outputs": []
    },
    {
      "cell_type": "code",
      "metadata": {
        "colab": {
          "base_uri": "https://localhost:8080/"
        },
        "id": "Rjg6NTou7iGX",
        "outputId": "3a15aed3-50be-4544-f642-9583f1b9bda0"
      },
      "source": [
        "board = [\n",
        "    ['0', '_', '_'],\n",
        "    ['_', '0', '_'],\n",
        "    ['_', '_', '0'],\n",
        "]\n",
        "evaluate(board)"
      ],
      "execution_count": 74,
      "outputs": [
        {
          "output_type": "execute_result",
          "data": {
            "text/plain": [
              "0"
            ]
          },
          "metadata": {},
          "execution_count": 74
        }
      ]
    },
    {
      "cell_type": "code",
      "metadata": {
        "colab": {
          "base_uri": "https://localhost:8080/"
        },
        "id": "mwAv7AmC7rd5",
        "outputId": "317973bf-9721-4cf0-8ba1-b8c51513ad8c"
      },
      "source": [
        "board = [\n",
        "    ['X', '_', '_'],\n",
        "    ['_', 'X', '_'],\n",
        "    ['_', '_', 'X'],\n",
        "]\n",
        "evaluate(board)"
      ],
      "execution_count": 75,
      "outputs": [
        {
          "output_type": "execute_result",
          "data": {
            "text/plain": [
              "1"
            ]
          },
          "metadata": {},
          "execution_count": 75
        }
      ]
    },
    {
      "cell_type": "markdown",
      "metadata": {
        "id": "Tg-dyn-KKak9"
      },
      "source": [
        "### 3. Empty spots? What are the choices? "
      ]
    },
    {
      "cell_type": "code",
      "metadata": {
        "id": "IihrUThAK6P-"
      },
      "source": [
        "def spots2fill(brd):\n",
        "    spots=[]\n",
        "    for i in [0,1,2]:\n",
        "      for j in [0,1,2]:\n",
        "        if brd[i][j] == '_':\n",
        "          spots.append([i, j])\n",
        "    return spots"
      ],
      "execution_count": 76,
      "outputs": []
    },
    {
      "cell_type": "code",
      "metadata": {
        "colab": {
          "base_uri": "https://localhost:8080/"
        },
        "id": "VxedZx1l75CW",
        "outputId": "f0595fa5-b2e3-40c8-b102-6cf1939b4b93"
      },
      "source": [
        "board = [\n",
        "    ['X', '_', '_'],\n",
        "    ['_', 'X', '_'],\n",
        "    ['_', '_', 'X'],\n",
        "]\n",
        "spots2fill(board)"
      ],
      "execution_count": 77,
      "outputs": [
        {
          "output_type": "execute_result",
          "data": {
            "text/plain": [
              "[[0, 1], [0, 2], [1, 0], [1, 2], [2, 0], [2, 1]]"
            ]
          },
          "metadata": {},
          "execution_count": 77
        }
      ]
    },
    {
      "cell_type": "markdown",
      "metadata": {
        "id": "frTlupuDLF1F"
      },
      "source": [
        "### 4. Decision maker:"
      ]
    },
    {
      "cell_type": "code",
      "metadata": {
        "colab": {
          "base_uri": "https://localhost:8080/"
        },
        "id": "6tw1RSbPAMpA",
        "outputId": "4fd6bcd0-e533-48ad-81ab-82590779341c"
      },
      "source": [
        "a=[2,1,3]\n",
        "a.index(min(a))"
      ],
      "execution_count": 78,
      "outputs": [
        {
          "output_type": "execute_result",
          "data": {
            "text/plain": [
              "1"
            ]
          },
          "metadata": {},
          "execution_count": 78
        }
      ]
    },
    {
      "cell_type": "code",
      "metadata": {
        "id": "9bfVqzJHKOt9"
      },
      "source": [
        "def min_max(brd,player):\n",
        "  if spots2fill(brd)==[] or evaluate(brd)==1 or evaluate(brd)==-1:\n",
        "    return [None, None, evaluate(brd)]\n",
        "  else:\n",
        "    All_spot_score=[]\n",
        "    All_spot_coordinates=[]\n",
        "    for spot in spots2fill(brd):\n",
        "      brd[spot[0]][spot[1]]=player\n",
        "      if player=='X':\n",
        "        spot_score=min_max(brd,'O')[2]\n",
        "      else:\n",
        "        spot_score=min_max(brd,'X')[2]\n",
        "      brd[spot[0]][spot[1]]='_'\n",
        "      All_spot_score.append(spot_score)\n",
        "      All_spot_coordinates.append(spot)\n",
        "    if player=='X':\n",
        "      best_score=max(All_spot_score)\n",
        "      best_score_index=All_spot_score.index(max(All_spot_score))\n",
        "    else:\n",
        "      best_score=min(All_spot_score)\n",
        "      best_score_index=All_spot_score.index(min(All_spot_score))      \n",
        "    return [All_spot_coordinates[best_score_index][0],All_spot_coordinates[best_score_index][1],best_score]"
      ],
      "execution_count": 79,
      "outputs": []
    },
    {
      "cell_type": "code",
      "metadata": {
        "id": "AyyZwegByGE0"
      },
      "source": [
        "board = [\n",
        "    ['O', 'O','X'],\n",
        "    ['X', '_', 'O'],\n",
        "    ['X', '_', 'X'],\n",
        "]"
      ],
      "execution_count": 80,
      "outputs": []
    },
    {
      "cell_type": "code",
      "metadata": {
        "colab": {
          "base_uri": "https://localhost:8080/"
        },
        "id": "fqiD2n_qyRkh",
        "outputId": "c698dc07-e863-48c3-b951-3f99dfdef948"
      },
      "source": [
        "for item in board:\n",
        "  print (item)\n",
        "print(min_max(board,'O'))"
      ],
      "execution_count": 81,
      "outputs": [
        {
          "output_type": "stream",
          "name": "stdout",
          "text": [
            "['O', 'O', 'X']\n",
            "['X', '_', 'O']\n",
            "['X', '_', 'X']\n",
            "[1, 1, 1]\n"
          ]
        }
      ]
    },
    {
      "cell_type": "code",
      "metadata": {
        "colab": {
          "base_uri": "https://localhost:8080/"
        },
        "id": "Yv2VvizpQHDs",
        "outputId": "adebe453-4fec-4465-856c-41f956e627e0"
      },
      "source": [
        "board = [\n",
        "    ['_', '_', '_'],\n",
        "    ['_', '_', '_'],\n",
        "    ['_', '_', '_'],\n",
        "]\n",
        "\n",
        "# Main loop of this game\n",
        "while (len(spots2fill(board))>0 and evaluate(board)==0):\n",
        "  moves = {1: [0, 0], 2: [0, 1], 3: [0, 2],\n",
        "           4: [1, 0], 5: [1, 1], 6: [1, 2],\n",
        "           7: [2, 0], 8: [2, 1], 9: [2, 2]}\n",
        "  move = int(input('\\nyour turn:\\nEnter (1 ~ 9): '))\n",
        "  if board[moves[move][0]][moves[move][1]]!='_':\n",
        "    print (\"\\nspot is already filled\\n\")\n",
        "    continue\n",
        "  board[moves[move][0]][moves[move][1]]='X'\n",
        "  for item in board:\n",
        "    print (item)\n",
        "  result=min_max(board,'O')\n",
        "  #print (result)\n",
        "  if result[0]==None:\n",
        "    continue\n",
        "  else:\n",
        "    print (\"\\ncomputer move: \\n\")\n",
        "    board[result[0]][result[1]]='O'\n",
        "    for item in board:\n",
        "      print (item)\n",
        " \n",
        "# Game over message\n",
        "print(\"\\nThe end:\")\n",
        "if evaluate(board)==1:\n",
        "    print('YOU WON!')\n",
        "elif evaluate(board)==-1:\n",
        "    print('YOU LOST!')\n",
        "else:\n",
        "    print('DRAW!')\n"
      ],
      "execution_count": 82,
      "outputs": [
        {
          "output_type": "stream",
          "name": "stdout",
          "text": [
            "\n",
            "your turn:\n",
            "Enter (1 ~ 9): 1\n",
            "['X', '_', '_']\n",
            "['_', '_', '_']\n",
            "['_', '_', '_']\n",
            "\n",
            "computer move: \n",
            "\n",
            "['X', '_', '_']\n",
            "['_', 'O', '_']\n",
            "['_', '_', '_']\n",
            "\n",
            "your turn:\n",
            "Enter (1 ~ 9): 4\n",
            "['X', '_', '_']\n",
            "['X', 'O', '_']\n",
            "['_', '_', '_']\n",
            "\n",
            "computer move: \n",
            "\n",
            "['X', '_', '_']\n",
            "['X', 'O', '_']\n",
            "['O', '_', '_']\n",
            "\n",
            "your turn:\n",
            "Enter (1 ~ 9): 3\n",
            "['X', '_', 'X']\n",
            "['X', 'O', '_']\n",
            "['O', '_', '_']\n",
            "\n",
            "computer move: \n",
            "\n",
            "['X', 'O', 'X']\n",
            "['X', 'O', '_']\n",
            "['O', '_', '_']\n",
            "\n",
            "your turn:\n",
            "Enter (1 ~ 9): 8\n",
            "['X', 'O', 'X']\n",
            "['X', 'O', '_']\n",
            "['O', 'X', '_']\n",
            "\n",
            "computer move: \n",
            "\n",
            "['X', 'O', 'X']\n",
            "['X', 'O', 'O']\n",
            "['O', 'X', '_']\n",
            "\n",
            "your turn:\n",
            "Enter (1 ~ 9): 9\n",
            "['X', 'O', 'X']\n",
            "['X', 'O', 'O']\n",
            "['O', 'X', 'X']\n",
            "\n",
            "The end:\n",
            "DRAW!\n"
          ]
        }
      ]
    },
    {
      "cell_type": "code",
      "source": [],
      "metadata": {
        "id": "WYE5roAWLiOT"
      },
      "execution_count": null,
      "outputs": []
    }
  ]
}