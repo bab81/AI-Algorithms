{
  "nbformat": 4,
  "nbformat_minor": 0,
  "metadata": {
    "colab": {
      "provenance": [],
      "toc_visible": true,
      "authorship_tag": "ABX9TyPd4OMmiEk5ttNrPFEMeOm0",
      "include_colab_link": true
    },
    "kernelspec": {
      "name": "python3",
      "display_name": "Python 3"
    },
    "language_info": {
      "name": "python"
    }
  },
  "cells": [
    {
      "cell_type": "markdown",
      "metadata": {
        "id": "view-in-github",
        "colab_type": "text"
      },
      "source": [
        "<a href=\"https://colab.research.google.com/github/bab81/AI-Algorithms/blob/main/2_Sqroot_Function.ipynb\" target=\"_parent\"><img src=\"https://colab.research.google.com/assets/colab-badge.svg\" alt=\"Open In Colab\"/></a>"
      ]
    },
    {
      "cell_type": "markdown",
      "source": [
        "##Find and approximation to the square root of a number\n",
        "Assumptions: x is positive integer, store your answer in a variable called ans:"
      ],
      "metadata": {
        "id": "EhCjQVI9fA6Z"
      }
    },
    {
      "cell_type": "code",
      "execution_count": null,
      "metadata": {
        "colab": {
          "base_uri": "https://localhost:8080/"
        },
        "id": "PMrLaixYe8uN",
        "outputId": "7dd68bce-11cb-462d-a4c4-73781207df50"
      },
      "outputs": [
        {
          "output_type": "stream",
          "name": "stdout",
          "text": [
            "<class 'int'>\n",
            "<class 'int'>\n",
            "50.00999999999862\n"
          ]
        }
      ],
      "source": [
        "x = 2501\n",
        "print(type(x))\n",
        "ans = 0\n",
        "print(type(ans))\n",
        "\n",
        "while (ans * ans < x):\n",
        "  ans = ans+.01\n",
        "\n",
        "print (ans)\n"
      ]
    },
    {
      "cell_type": "markdown",
      "source": [
        "# Find an approximation to the square root of a number with given precision\n",
        "Assumptions: x is positive integer, store your answer in a variable called ans:"
      ],
      "metadata": {
        "id": "9DjfYIc5fRju"
      }
    },
    {
      "cell_type": "code",
      "source": [
        "epsilon = .01 # precision of approximation\n",
        "x = 2501\n",
        "ans = 0\n",
        "counter = 0\n",
        "while ((ans * ans + epsilon) < x):\n",
        "  ans = ans+epsilon**3\n",
        "  counter+=1\n",
        "\n",
        "print (ans)\n",
        "print(\"iterations=\", counter)"
      ],
      "metadata": {
        "colab": {
          "base_uri": "https://localhost:8080/"
        },
        "id": "27w2JUlGgjOS",
        "outputId": "10dc5fc4-e568-448c-e711-0c92912aac82"
      },
      "execution_count": null,
      "outputs": [
        {
          "output_type": "stream",
          "name": "stdout",
          "text": [
            "50.00989996575379\n",
            "iterations= 50009900\n"
          ]
        }
      ]
    },
    {
      "cell_type": "code",
      "source": [
        "#Improved version - lower number of iterations\n",
        "\n",
        "epsilon = .01 # precision of approximation\n",
        "x = 2500\n",
        "counter = 0\n",
        "low = 0\n",
        "high = x/2\n",
        "ans = (low+high)/2\n",
        "\n",
        "while (abs(ans * ans -x) > epsilon):\n",
        "  if ans**2 > x:\n",
        "    high = ans\n",
        "  else:\n",
        "    low = ans\n",
        "  \n",
        "  ans = (low+high)/2\n",
        "  counter+=1\n",
        "\n",
        "print (ans)\n",
        "print(\"iterations=\", counter)"
      ],
      "metadata": {
        "colab": {
          "base_uri": "https://localhost:8080/"
        },
        "id": "L5Nime2NhX-e",
        "outputId": "d93e7410-88d8-44ab-cf9f-806216a75bbe"
      },
      "execution_count": null,
      "outputs": [
        {
          "output_type": "stream",
          "name": "stdout",
          "text": [
            "49.99995231628418\n",
            "iterations= 19\n"
          ]
        }
      ]
    },
    {
      "cell_type": "markdown",
      "source": [
        "# Using Newton-Raphson method "
      ],
      "metadata": {
        "id": "JFHZrizZPxAR"
      }
    },
    {
      "cell_type": "code",
      "source": [
        "#Using Newton-Raphson method \n",
        "\n",
        "epsilon = .01 # precision of approximation\n",
        "x = 2500\n",
        "counter = 0\n",
        "ans = x/4\n",
        "\n",
        "while (abs(ans * ans -x) > epsilon):  \n",
        "  ans = ans - (ans**2-x)/(2*ans)\n",
        "  counter+=1\n",
        "\n",
        "print (ans)\n",
        "print(\"iterations=\", counter)"
      ],
      "metadata": {
        "colab": {
          "base_uri": "https://localhost:8080/"
        },
        "id": "g0N4AVdL8jDE",
        "outputId": "da2357b6-c653-482d-fda9-bc410423f9a9"
      },
      "execution_count": null,
      "outputs": [
        {
          "output_type": "stream",
          "name": "stdout",
          "text": [
            "50.000000122067824\n",
            "iterations= 7\n"
          ]
        }
      ]
    }
  ]
}