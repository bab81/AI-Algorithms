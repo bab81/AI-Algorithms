{
  "nbformat": 4,
  "nbformat_minor": 0,
  "metadata": {
    "colab": {
      "provenance": [],
      "authorship_tag": "ABX9TyP1ftaq8RDLZzrI97L6u9r8",
      "include_colab_link": true
    },
    "kernelspec": {
      "name": "python3",
      "display_name": "Python 3"
    },
    "language_info": {
      "name": "python"
    }
  },
  "cells": [
    {
      "cell_type": "markdown",
      "metadata": {
        "id": "view-in-github",
        "colab_type": "text"
      },
      "source": [
        "<a href=\"https://colab.research.google.com/github/bab81/AI-Algorithms/blob/main/1_Test_Colab.ipynb\" target=\"_parent\"><img src=\"https://colab.research.google.com/assets/colab-badge.svg\" alt=\"Open In Colab\"/></a>"
      ]
    },
    {
      "cell_type": "markdown",
      "source": [
        "# Basic Test\n",
        "Beginning in Colab"
      ],
      "metadata": {
        "id": "2bAIzXdGC9rK"
      }
    },
    {
      "cell_type": "markdown",
      "source": [
        "##Printing commands\n",
        "Print is different in version 3 and version 2 of python"
      ],
      "metadata": {
        "id": "BAEfyBHADVDg"
      }
    },
    {
      "cell_type": "markdown",
      "source": [
        "###Plotting commands"
      ],
      "metadata": {
        "id": "EhXWrGp4DapD"
      }
    },
    {
      "cell_type": "code",
      "execution_count": null,
      "metadata": {
        "id": "x2p19Z-i60Uh",
        "colab": {
          "base_uri": "https://localhost:8080/"
        },
        "outputId": "229e2dee-ca10-4876-ebcc-52e00c5aaa47"
      },
      "outputs": [
        {
          "output_type": "stream",
          "name": "stdout",
          "text": [
            "test\n",
            "/content\n",
            "/content\n"
          ]
        }
      ],
      "source": [
        "print(\"test\")\n",
        "! pwd\n",
        "! cd /\n",
        "! pwd"
      ]
    },
    {
      "cell_type": "code",
      "source": [
        "a=4\n",
        "print(a)"
      ],
      "metadata": {
        "colab": {
          "base_uri": "https://localhost:8080/"
        },
        "id": "y-brFUawFG_H",
        "outputId": "81f188e3-ed8d-4ecf-f4dd-acaa3f42a1db"
      },
      "execution_count": null,
      "outputs": [
        {
          "output_type": "stream",
          "name": "stdout",
          "text": [
            "4\n"
          ]
        }
      ]
    }
  ]
}