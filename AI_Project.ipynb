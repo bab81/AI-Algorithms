{
  "nbformat": 4,
  "nbformat_minor": 0,
  "metadata": {
    "colab": {
      "provenance": [],
      "collapsed_sections": [
        "fqdV4cvsFJVJ",
        "CzbhCZtjebMk",
        "ykzY5MweepcP",
        "6R82-7Vie1iN"
      ],
      "toc_visible": true,
      "include_colab_link": true
    },
    "kernelspec": {
      "name": "python3",
      "display_name": "Python 3"
    },
    "language_info": {
      "name": "python"
    }
  },
  "cells": [
    {
      "cell_type": "markdown",
      "metadata": {
        "id": "view-in-github",
        "colab_type": "text"
      },
      "source": [
        "<a href=\"https://colab.research.google.com/github/bab81/AI-Algorithms/blob/main/AI_Project.ipynb\" target=\"_parent\"><img src=\"https://colab.research.google.com/assets/colab-badge.svg\" alt=\"Open In Colab\"/></a>"
      ]
    },
    {
      "cell_type": "markdown",
      "source": [
        "#AI Project"
      ],
      "metadata": {
        "id": "SDyX7Kc-78ld"
      }
    },
    {
      "cell_type": "markdown",
      "source": [
        "## 0. Import from PDF\n"
      ],
      "metadata": {
        "id": "0Pg1Ez8t9J3w"
      }
    },
    {
      "cell_type": "markdown",
      "source": [
        "### Install dependency - ghostscript"
      ],
      "metadata": {
        "id": "fqdV4cvsFJVJ"
      }
    },
    {
      "cell_type": "code",
      "source": [
        "!apt install ghostscript"
      ],
      "metadata": {
        "colab": {
          "base_uri": "https://localhost:8080/"
        },
        "id": "xK9mWjnPL-X4",
        "outputId": "d23de4b2-6081-449e-dc2a-26ecfca3dce3"
      },
      "execution_count": null,
      "outputs": [
        {
          "output_type": "stream",
          "name": "stdout",
          "text": [
            "Reading package lists... Done\n",
            "Building dependency tree       \n",
            "Reading state information... Done\n",
            "The following additional packages will be installed:\n",
            "  fonts-droid-fallback fonts-noto-mono fonts-urw-base35 libgs9 libgs9-common\n",
            "  libidn11 libijs-0.35 libjbig2dec0 poppler-data\n",
            "Suggested packages:\n",
            "  fonts-noto fonts-freefont-otf | fonts-freefont-ttf fonts-texgyre\n",
            "  ghostscript-x poppler-utils fonts-japanese-mincho | fonts-ipafont-mincho\n",
            "  fonts-japanese-gothic | fonts-ipafont-gothic fonts-arphic-ukai\n",
            "  fonts-arphic-uming fonts-nanum\n",
            "The following NEW packages will be installed:\n",
            "  fonts-droid-fallback fonts-noto-mono fonts-urw-base35 ghostscript libgs9\n",
            "  libgs9-common libidn11 libijs-0.35 libjbig2dec0 poppler-data\n",
            "0 upgraded, 10 newly installed, 0 to remove and 24 not upgraded.\n",
            "Need to get 12.7 MB of archives.\n",
            "After this operation, 51.8 MB of additional disk space will be used.\n",
            "Get:1 http://archive.ubuntu.com/ubuntu focal/main amd64 fonts-droid-fallback all 1:6.0.1r16-1.1 [1,805 kB]\n",
            "Get:2 http://archive.ubuntu.com/ubuntu focal/main amd64 poppler-data all 0.4.9-2 [1,475 kB]\n",
            "Get:3 http://archive.ubuntu.com/ubuntu focal-updates/main amd64 fonts-noto-mono all 20200323-1build1~ubuntu20.04.1 [80.6 kB]\n",
            "Get:4 http://archive.ubuntu.com/ubuntu focal/main amd64 fonts-urw-base35 all 20170801.1-3 [6,333 kB]\n",
            "Get:5 http://archive.ubuntu.com/ubuntu focal-updates/main amd64 libgs9-common all 9.50~dfsg-5ubuntu4.7 [681 kB]\n",
            "Get:6 http://archive.ubuntu.com/ubuntu focal/main amd64 libidn11 amd64 1.33-2.2ubuntu2 [46.2 kB]\n",
            "Get:7 http://archive.ubuntu.com/ubuntu focal/main amd64 libijs-0.35 amd64 0.35-15 [15.7 kB]\n",
            "Get:8 http://archive.ubuntu.com/ubuntu focal/main amd64 libjbig2dec0 amd64 0.18-1ubuntu1 [60.0 kB]\n",
            "Get:9 http://archive.ubuntu.com/ubuntu focal-updates/main amd64 libgs9 amd64 9.50~dfsg-5ubuntu4.7 [2,173 kB]\n",
            "Get:10 http://archive.ubuntu.com/ubuntu focal-updates/main amd64 ghostscript amd64 9.50~dfsg-5ubuntu4.7 [51.9 kB]\n",
            "Fetched 12.7 MB in 16s (795 kB/s)\n",
            "Selecting previously unselected package fonts-droid-fallback.\n",
            "(Reading database ... 122519 files and directories currently installed.)\n",
            "Preparing to unpack .../0-fonts-droid-fallback_1%3a6.0.1r16-1.1_all.deb ...\n",
            "Unpacking fonts-droid-fallback (1:6.0.1r16-1.1) ...\n",
            "Selecting previously unselected package poppler-data.\n",
            "Preparing to unpack .../1-poppler-data_0.4.9-2_all.deb ...\n",
            "Unpacking poppler-data (0.4.9-2) ...\n",
            "Selecting previously unselected package fonts-noto-mono.\n",
            "Preparing to unpack .../2-fonts-noto-mono_20200323-1build1~ubuntu20.04.1_all.deb ...\n",
            "Unpacking fonts-noto-mono (20200323-1build1~ubuntu20.04.1) ...\n",
            "Selecting previously unselected package fonts-urw-base35.\n",
            "Preparing to unpack .../3-fonts-urw-base35_20170801.1-3_all.deb ...\n",
            "Unpacking fonts-urw-base35 (20170801.1-3) ...\n",
            "Selecting previously unselected package libgs9-common.\n",
            "Preparing to unpack .../4-libgs9-common_9.50~dfsg-5ubuntu4.7_all.deb ...\n",
            "Unpacking libgs9-common (9.50~dfsg-5ubuntu4.7) ...\n",
            "Selecting previously unselected package libidn11:amd64.\n",
            "Preparing to unpack .../5-libidn11_1.33-2.2ubuntu2_amd64.deb ...\n",
            "Unpacking libidn11:amd64 (1.33-2.2ubuntu2) ...\n",
            "Selecting previously unselected package libijs-0.35:amd64.\n",
            "Preparing to unpack .../6-libijs-0.35_0.35-15_amd64.deb ...\n",
            "Unpacking libijs-0.35:amd64 (0.35-15) ...\n",
            "Selecting previously unselected package libjbig2dec0:amd64.\n",
            "Preparing to unpack .../7-libjbig2dec0_0.18-1ubuntu1_amd64.deb ...\n",
            "Unpacking libjbig2dec0:amd64 (0.18-1ubuntu1) ...\n",
            "Selecting previously unselected package libgs9:amd64.\n",
            "Preparing to unpack .../8-libgs9_9.50~dfsg-5ubuntu4.7_amd64.deb ...\n",
            "Unpacking libgs9:amd64 (9.50~dfsg-5ubuntu4.7) ...\n",
            "Selecting previously unselected package ghostscript.\n",
            "Preparing to unpack .../9-ghostscript_9.50~dfsg-5ubuntu4.7_amd64.deb ...\n",
            "Unpacking ghostscript (9.50~dfsg-5ubuntu4.7) ...\n",
            "Setting up fonts-noto-mono (20200323-1build1~ubuntu20.04.1) ...\n",
            "Setting up libijs-0.35:amd64 (0.35-15) ...\n",
            "Setting up fonts-urw-base35 (20170801.1-3) ...\n",
            "Setting up poppler-data (0.4.9-2) ...\n",
            "Setting up libjbig2dec0:amd64 (0.18-1ubuntu1) ...\n",
            "Setting up libidn11:amd64 (1.33-2.2ubuntu2) ...\n",
            "Setting up fonts-droid-fallback (1:6.0.1r16-1.1) ...\n",
            "Setting up libgs9-common (9.50~dfsg-5ubuntu4.7) ...\n",
            "Setting up libgs9:amd64 (9.50~dfsg-5ubuntu4.7) ...\n",
            "Setting up ghostscript (9.50~dfsg-5ubuntu4.7) ...\n",
            "Processing triggers for fontconfig (2.13.1-2ubuntu3) ...\n",
            "Processing triggers for libc-bin (2.31-0ubuntu9.9) ...\n",
            "Processing triggers for man-db (2.9.1-1) ...\n"
          ]
        }
      ]
    },
    {
      "cell_type": "markdown",
      "source": [
        "### Install dependency ghostscript python"
      ],
      "metadata": {
        "id": "CzbhCZtjebMk"
      }
    },
    {
      "cell_type": "code",
      "source": [
        "!pip install ghostscript"
      ],
      "metadata": {
        "colab": {
          "base_uri": "https://localhost:8080/"
        },
        "id": "zx4Uubm8cMqy",
        "outputId": "2fef492d-586b-4fc2-a1af-b73ef1f1ff8f"
      },
      "execution_count": null,
      "outputs": [
        {
          "output_type": "stream",
          "name": "stdout",
          "text": [
            "Looking in indexes: https://pypi.org/simple, https://us-python.pkg.dev/colab-wheels/public/simple/\n",
            "Collecting ghostscript\n",
            "  Downloading ghostscript-0.7-py2.py3-none-any.whl (25 kB)\n",
            "Requirement already satisfied: setuptools>=38.6.0 in /usr/local/lib/python3.10/dist-packages (from ghostscript) (67.7.2)\n",
            "Installing collected packages: ghostscript\n",
            "Successfully installed ghostscript-0.7\n"
          ]
        }
      ]
    },
    {
      "cell_type": "markdown",
      "source": [
        "### Install dependency - camelot-py"
      ],
      "metadata": {
        "id": "ykzY5MweepcP"
      }
    },
    {
      "cell_type": "code",
      "source": [
        "!pip --no-cache-dir install camelot-py"
      ],
      "metadata": {
        "colab": {
          "base_uri": "https://localhost:8080/"
        },
        "id": "LDYXtSRVFGiz",
        "outputId": "81e1543b-1793-425c-e0a1-634151d894d9"
      },
      "execution_count": null,
      "outputs": [
        {
          "output_type": "stream",
          "name": "stdout",
          "text": [
            "Looking in indexes: https://pypi.org/simple, https://us-python.pkg.dev/colab-wheels/public/simple/\n",
            "Collecting camelot-py\n",
            "  Downloading camelot_py-0.11.0-py3-none-any.whl (40 kB)\n",
            "\u001b[2K     \u001b[90m━━━━━━━━━━━━━━━━━━━━━━━━━━━━━━━━━━━━━━━━\u001b[0m \u001b[32m41.0/41.0 kB\u001b[0m \u001b[31m32.3 MB/s\u001b[0m eta \u001b[36m0:00:00\u001b[0m\n",
            "\u001b[?25hCollecting pypdf>=3.0.0\n",
            "  Downloading pypdf-3.8.1-py3-none-any.whl (248 kB)\n",
            "\u001b[2K     \u001b[90m━━━━━━━━━━━━━━━━━━━━━━━━━━━━━━━━━━━━━━\u001b[0m \u001b[32m248.8/248.8 kB\u001b[0m \u001b[31m20.1 MB/s\u001b[0m eta \u001b[36m0:00:00\u001b[0m\n",
            "\u001b[?25hCollecting pdfminer.six>=20200726\n",
            "  Downloading pdfminer.six-20221105-py3-none-any.whl (5.6 MB)\n",
            "\u001b[2K     \u001b[90m━━━━━━━━━━━━━━━━━━━━━━━━━━━━━━━━━━━━━━━━\u001b[0m \u001b[32m5.6/5.6 MB\u001b[0m \u001b[31m127.7 MB/s\u001b[0m eta \u001b[36m0:00:00\u001b[0m\n",
            "\u001b[?25hRequirement already satisfied: openpyxl>=2.5.8 in /usr/local/lib/python3.10/dist-packages (from camelot-py) (3.0.10)\n",
            "Requirement already satisfied: click>=6.7 in /usr/local/lib/python3.10/dist-packages (from camelot-py) (8.1.3)\n",
            "Requirement already satisfied: chardet>=3.0.4 in /usr/local/lib/python3.10/dist-packages (from camelot-py) (4.0.0)\n",
            "Requirement already satisfied: tabulate>=0.8.9 in /usr/local/lib/python3.10/dist-packages (from camelot-py) (0.8.10)\n",
            "Requirement already satisfied: pandas>=0.23.4 in /usr/local/lib/python3.10/dist-packages (from camelot-py) (1.5.3)\n",
            "Requirement already satisfied: numpy>=1.13.3 in /usr/local/lib/python3.10/dist-packages (from camelot-py) (1.22.4)\n",
            "Requirement already satisfied: et-xmlfile in /usr/local/lib/python3.10/dist-packages (from openpyxl>=2.5.8->camelot-py) (1.1.0)\n",
            "Requirement already satisfied: pytz>=2020.1 in /usr/local/lib/python3.10/dist-packages (from pandas>=0.23.4->camelot-py) (2022.7.1)\n",
            "Requirement already satisfied: python-dateutil>=2.8.1 in /usr/local/lib/python3.10/dist-packages (from pandas>=0.23.4->camelot-py) (2.8.2)\n",
            "Requirement already satisfied: cryptography>=36.0.0 in /usr/local/lib/python3.10/dist-packages (from pdfminer.six>=20200726->camelot-py) (40.0.2)\n",
            "Requirement already satisfied: charset-normalizer>=2.0.0 in /usr/local/lib/python3.10/dist-packages (from pdfminer.six>=20200726->camelot-py) (2.0.12)\n",
            "Requirement already satisfied: cffi>=1.12 in /usr/local/lib/python3.10/dist-packages (from cryptography>=36.0.0->pdfminer.six>=20200726->camelot-py) (1.15.1)\n",
            "Requirement already satisfied: six>=1.5 in /usr/local/lib/python3.10/dist-packages (from python-dateutil>=2.8.1->pandas>=0.23.4->camelot-py) (1.16.0)\n",
            "Requirement already satisfied: pycparser in /usr/local/lib/python3.10/dist-packages (from cffi>=1.12->cryptography>=36.0.0->pdfminer.six>=20200726->camelot-py) (2.21)\n",
            "Installing collected packages: pypdf, pdfminer.six, camelot-py\n",
            "Successfully installed camelot-py-0.11.0 pdfminer.six-20221105 pypdf-3.8.1\n"
          ]
        }
      ]
    },
    {
      "cell_type": "markdown",
      "source": [
        "###Import libraries and modules"
      ],
      "metadata": {
        "id": "6R82-7Vie1iN"
      }
    },
    {
      "cell_type": "code",
      "source": [
        "import pandas as pd\n",
        "import camelot\n",
        "import numpy as np\n",
        "import re\n",
        "\n",
        "# for data processing and manipulation\n",
        "from sklearn.preprocessing import LabelEncoder\n",
        "from sklearn.utils import resample\n",
        "from sklearn.preprocessing import StandardScaler\n",
        "from sklearn.model_selection import train_test_split\n",
        "\n",
        "#importing different models\n",
        "from sklearn.linear_model import LogisticRegression\n",
        "from sklearn.neural_network import MLPClassifier\n",
        "from sklearn.neighbors import KNeighborsClassifier\n",
        "from sklearn.svm import LinearSVC\n",
        "from sklearn.cluster import KMeans\n",
        "\n",
        "# for evaluating models\n",
        "from sklearn.metrics import ConfusionMatrixDisplay\n",
        "from sklearn.metrics import confusion_matrix\n",
        "from sklearn.metrics import classification_report\n",
        "\n",
        "# for making charts\n",
        "import matplotlib.pyplot as plt\n",
        "import seaborn as sns"
      ],
      "metadata": {
        "id": "QKWQ8YEg9F0I"
      },
      "execution_count": null,
      "outputs": []
    },
    {
      "cell_type": "markdown",
      "source": [
        "### Import PDF\n",
        "The original is at https://cabinet.gov.pk/SiteImage/Misc/files/TOSHAKHANA/Procedures/TK-Record.pdf\n",
        "\n",
        "**Note:** this is almost a 450-page document that takes 10+ min to be read"
      ],
      "metadata": {
        "id": "utYhV2v0e8jr"
      }
    },
    {
      "cell_type": "code",
      "source": [
        "#tables = camelot.read_pdf('TK-Record.pdf', pages='2')\n",
        "tables = camelot.read_pdf('TK-Record.pdf', pages='all') # beware - this takes 10+ min to run"
      ],
      "metadata": {
        "id": "ZTyMDiDXFnNY"
      },
      "execution_count": null,
      "outputs": []
    },
    {
      "cell_type": "markdown",
      "source": [
        "### Convert to Dataframe"
      ],
      "metadata": {
        "id": "UiIWl7H2fbvg"
      }
    },
    {
      "cell_type": "code",
      "source": [
        "df = pd.DataFrame()\n",
        "for table in tables:  \n",
        "    df = pd.concat([df, table.df.drop([0])], axis=0, ignore_index=True) \n",
        "    # Note: drop the repeating header (i.e. first row for each df-page)"
      ],
      "metadata": {
        "id": "iIKLqR-kizdS"
      },
      "execution_count": null,
      "outputs": []
    },
    {
      "cell_type": "markdown",
      "source": [
        "### Make backup copy of the dataframe"
      ],
      "metadata": {
        "id": "qUN94ZnvkEss"
      }
    },
    {
      "cell_type": "code",
      "source": [
        "df_orig = df.copy() "
      ],
      "metadata": {
        "id": "xb-TXSuzFyK7"
      },
      "execution_count": null,
      "outputs": []
    },
    {
      "cell_type": "code",
      "source": [
        "df"
      ],
      "metadata": {
        "colab": {
          "base_uri": "https://localhost:8080/",
          "height": 424
        },
        "id": "erR5ExvkkbRM",
        "outputId": "3cff12bf-aba1-48b1-8deb-b3b98d852c6b"
      },
      "execution_count": null,
      "outputs": [
        {
          "output_type": "execute_result",
          "data": {
            "text/plain": [
              "        0                                                  1  \\\n",
              "0      1.                       Two \\nsmall \\nsilver \\nBowls   \n",
              "1      2.                           One Pilot Pen with \\nink   \n",
              "2      3.                                    One silver vase   \n",
              "3      4.                One \\n(decoration) \\nfolding Screen   \n",
              "4      5.                           One \\nDecoration \\nPiece   \n",
              "...   ...                                                ...   \n",
              "4580  55.  One Ladies Dupatta \\nOne Key Chain \\nOne Card ...   \n",
              "4581  56.                                     One Rug/Carpet   \n",
              "4582  57.                                    Two Ladies Suit   \n",
              "4583  58.  One Fancy Dupatta  \\nOne Vase \\nOne White Box ...   \n",
              "4584  59.                                     Six Gents suit   \n",
              "\n",
              "                                                      2           3  \\\n",
              "0     Mr.  Abdul  Sattar,  Minister  for  Foreign \\n...  08-01-2002   \n",
              "1     Mr.  Abdul  Sattar,  Minister  for  Foreign \\n...  08-01-2002   \n",
              "2                Mr. Shaukat Aziz, Minister for Finance  09-01-2002   \n",
              "3     Mr.  Abdul  Sattar,  Minister  for  Foreign \\n...  15-01-2002   \n",
              "4     Mr.  Abdul  Sattar,  Minister  for  Foreign \\n...  22-01-2002   \n",
              "...                                                 ...         ...   \n",
              "4580                             First Lady of Pakistan  28-02-2023   \n",
              "4581      Mr.  Asad  Majeed  Khan,  Foreign \\nSecretary  01-03-2023   \n",
              "4582                             First Lady of Pakistan  02-03-2023   \n",
              "4583                             First Lady of Pakistan  02-03-2023   \n",
              "4584                             First Lady of Pakistan  02-03-2023   \n",
              "\n",
              "               4             5           6  \n",
              "0     Rs.5,000/-  Free of cost    Retained  \n",
              "1     Rs.3,500/-  Free of cost    Retained  \n",
              "2     Rs.7,500/-  Free of cost    Retained  \n",
              "3     Rs.2,200/-  Free of cost    Retained  \n",
              "4     Rs.2,000/-  Free of cost    Retained  \n",
              "...          ...           ...         ...  \n",
              "4580                            In process  \n",
              "4581                            In process  \n",
              "4582                            In process  \n",
              "4583                            In process  \n",
              "4584                            In process  \n",
              "\n",
              "[4585 rows x 7 columns]"
            ],
            "text/html": [
              "\n",
              "  <div id=\"df-406b6ac8-7587-4b06-8884-d0ad69ededdc\">\n",
              "    <div class=\"colab-df-container\">\n",
              "      <div>\n",
              "<style scoped>\n",
              "    .dataframe tbody tr th:only-of-type {\n",
              "        vertical-align: middle;\n",
              "    }\n",
              "\n",
              "    .dataframe tbody tr th {\n",
              "        vertical-align: top;\n",
              "    }\n",
              "\n",
              "    .dataframe thead th {\n",
              "        text-align: right;\n",
              "    }\n",
              "</style>\n",
              "<table border=\"1\" class=\"dataframe\">\n",
              "  <thead>\n",
              "    <tr style=\"text-align: right;\">\n",
              "      <th></th>\n",
              "      <th>0</th>\n",
              "      <th>1</th>\n",
              "      <th>2</th>\n",
              "      <th>3</th>\n",
              "      <th>4</th>\n",
              "      <th>5</th>\n",
              "      <th>6</th>\n",
              "    </tr>\n",
              "  </thead>\n",
              "  <tbody>\n",
              "    <tr>\n",
              "      <th>0</th>\n",
              "      <td>1.</td>\n",
              "      <td>Two \\nsmall \\nsilver \\nBowls</td>\n",
              "      <td>Mr.  Abdul  Sattar,  Minister  for  Foreign \\n...</td>\n",
              "      <td>08-01-2002</td>\n",
              "      <td>Rs.5,000/-</td>\n",
              "      <td>Free of cost</td>\n",
              "      <td>Retained</td>\n",
              "    </tr>\n",
              "    <tr>\n",
              "      <th>1</th>\n",
              "      <td>2.</td>\n",
              "      <td>One Pilot Pen with \\nink</td>\n",
              "      <td>Mr.  Abdul  Sattar,  Minister  for  Foreign \\n...</td>\n",
              "      <td>08-01-2002</td>\n",
              "      <td>Rs.3,500/-</td>\n",
              "      <td>Free of cost</td>\n",
              "      <td>Retained</td>\n",
              "    </tr>\n",
              "    <tr>\n",
              "      <th>2</th>\n",
              "      <td>3.</td>\n",
              "      <td>One silver vase</td>\n",
              "      <td>Mr. Shaukat Aziz, Minister for Finance</td>\n",
              "      <td>09-01-2002</td>\n",
              "      <td>Rs.7,500/-</td>\n",
              "      <td>Free of cost</td>\n",
              "      <td>Retained</td>\n",
              "    </tr>\n",
              "    <tr>\n",
              "      <th>3</th>\n",
              "      <td>4.</td>\n",
              "      <td>One \\n(decoration) \\nfolding Screen</td>\n",
              "      <td>Mr.  Abdul  Sattar,  Minister  for  Foreign \\n...</td>\n",
              "      <td>15-01-2002</td>\n",
              "      <td>Rs.2,200/-</td>\n",
              "      <td>Free of cost</td>\n",
              "      <td>Retained</td>\n",
              "    </tr>\n",
              "    <tr>\n",
              "      <th>4</th>\n",
              "      <td>5.</td>\n",
              "      <td>One \\nDecoration \\nPiece</td>\n",
              "      <td>Mr.  Abdul  Sattar,  Minister  for  Foreign \\n...</td>\n",
              "      <td>22-01-2002</td>\n",
              "      <td>Rs.2,000/-</td>\n",
              "      <td>Free of cost</td>\n",
              "      <td>Retained</td>\n",
              "    </tr>\n",
              "    <tr>\n",
              "      <th>...</th>\n",
              "      <td>...</td>\n",
              "      <td>...</td>\n",
              "      <td>...</td>\n",
              "      <td>...</td>\n",
              "      <td>...</td>\n",
              "      <td>...</td>\n",
              "      <td>...</td>\n",
              "    </tr>\n",
              "    <tr>\n",
              "      <th>4580</th>\n",
              "      <td>55.</td>\n",
              "      <td>One Ladies Dupatta \\nOne Key Chain \\nOne Card ...</td>\n",
              "      <td>First Lady of Pakistan</td>\n",
              "      <td>28-02-2023</td>\n",
              "      <td></td>\n",
              "      <td></td>\n",
              "      <td>In process</td>\n",
              "    </tr>\n",
              "    <tr>\n",
              "      <th>4581</th>\n",
              "      <td>56.</td>\n",
              "      <td>One Rug/Carpet</td>\n",
              "      <td>Mr.  Asad  Majeed  Khan,  Foreign \\nSecretary</td>\n",
              "      <td>01-03-2023</td>\n",
              "      <td></td>\n",
              "      <td></td>\n",
              "      <td>In process</td>\n",
              "    </tr>\n",
              "    <tr>\n",
              "      <th>4582</th>\n",
              "      <td>57.</td>\n",
              "      <td>Two Ladies Suit</td>\n",
              "      <td>First Lady of Pakistan</td>\n",
              "      <td>02-03-2023</td>\n",
              "      <td></td>\n",
              "      <td></td>\n",
              "      <td>In process</td>\n",
              "    </tr>\n",
              "    <tr>\n",
              "      <th>4583</th>\n",
              "      <td>58.</td>\n",
              "      <td>One Fancy Dupatta  \\nOne Vase \\nOne White Box ...</td>\n",
              "      <td>First Lady of Pakistan</td>\n",
              "      <td>02-03-2023</td>\n",
              "      <td></td>\n",
              "      <td></td>\n",
              "      <td>In process</td>\n",
              "    </tr>\n",
              "    <tr>\n",
              "      <th>4584</th>\n",
              "      <td>59.</td>\n",
              "      <td>Six Gents suit</td>\n",
              "      <td>First Lady of Pakistan</td>\n",
              "      <td>02-03-2023</td>\n",
              "      <td></td>\n",
              "      <td></td>\n",
              "      <td>In process</td>\n",
              "    </tr>\n",
              "  </tbody>\n",
              "</table>\n",
              "<p>4585 rows × 7 columns</p>\n",
              "</div>\n",
              "      <button class=\"colab-df-convert\" onclick=\"convertToInteractive('df-406b6ac8-7587-4b06-8884-d0ad69ededdc')\"\n",
              "              title=\"Convert this dataframe to an interactive table.\"\n",
              "              style=\"display:none;\">\n",
              "        \n",
              "  <svg xmlns=\"http://www.w3.org/2000/svg\" height=\"24px\"viewBox=\"0 0 24 24\"\n",
              "       width=\"24px\">\n",
              "    <path d=\"M0 0h24v24H0V0z\" fill=\"none\"/>\n",
              "    <path d=\"M18.56 5.44l.94 2.06.94-2.06 2.06-.94-2.06-.94-.94-2.06-.94 2.06-2.06.94zm-11 1L8.5 8.5l.94-2.06 2.06-.94-2.06-.94L8.5 2.5l-.94 2.06-2.06.94zm10 10l.94 2.06.94-2.06 2.06-.94-2.06-.94-.94-2.06-.94 2.06-2.06.94z\"/><path d=\"M17.41 7.96l-1.37-1.37c-.4-.4-.92-.59-1.43-.59-.52 0-1.04.2-1.43.59L10.3 9.45l-7.72 7.72c-.78.78-.78 2.05 0 2.83L4 21.41c.39.39.9.59 1.41.59.51 0 1.02-.2 1.41-.59l7.78-7.78 2.81-2.81c.8-.78.8-2.07 0-2.86zM5.41 20L4 18.59l7.72-7.72 1.47 1.35L5.41 20z\"/>\n",
              "  </svg>\n",
              "      </button>\n",
              "      \n",
              "  <style>\n",
              "    .colab-df-container {\n",
              "      display:flex;\n",
              "      flex-wrap:wrap;\n",
              "      gap: 12px;\n",
              "    }\n",
              "\n",
              "    .colab-df-convert {\n",
              "      background-color: #E8F0FE;\n",
              "      border: none;\n",
              "      border-radius: 50%;\n",
              "      cursor: pointer;\n",
              "      display: none;\n",
              "      fill: #1967D2;\n",
              "      height: 32px;\n",
              "      padding: 0 0 0 0;\n",
              "      width: 32px;\n",
              "    }\n",
              "\n",
              "    .colab-df-convert:hover {\n",
              "      background-color: #E2EBFA;\n",
              "      box-shadow: 0px 1px 2px rgba(60, 64, 67, 0.3), 0px 1px 3px 1px rgba(60, 64, 67, 0.15);\n",
              "      fill: #174EA6;\n",
              "    }\n",
              "\n",
              "    [theme=dark] .colab-df-convert {\n",
              "      background-color: #3B4455;\n",
              "      fill: #D2E3FC;\n",
              "    }\n",
              "\n",
              "    [theme=dark] .colab-df-convert:hover {\n",
              "      background-color: #434B5C;\n",
              "      box-shadow: 0px 1px 3px 1px rgba(0, 0, 0, 0.15);\n",
              "      filter: drop-shadow(0px 1px 2px rgba(0, 0, 0, 0.3));\n",
              "      fill: #FFFFFF;\n",
              "    }\n",
              "  </style>\n",
              "\n",
              "      <script>\n",
              "        const buttonEl =\n",
              "          document.querySelector('#df-406b6ac8-7587-4b06-8884-d0ad69ededdc button.colab-df-convert');\n",
              "        buttonEl.style.display =\n",
              "          google.colab.kernel.accessAllowed ? 'block' : 'none';\n",
              "\n",
              "        async function convertToInteractive(key) {\n",
              "          const element = document.querySelector('#df-406b6ac8-7587-4b06-8884-d0ad69ededdc');\n",
              "          const dataTable =\n",
              "            await google.colab.kernel.invokeFunction('convertToInteractive',\n",
              "                                                     [key], {});\n",
              "          if (!dataTable) return;\n",
              "\n",
              "          const docLinkHtml = 'Like what you see? Visit the ' +\n",
              "            '<a target=\"_blank\" href=https://colab.research.google.com/notebooks/data_table.ipynb>data table notebook</a>'\n",
              "            + ' to learn more about interactive tables.';\n",
              "          element.innerHTML = '';\n",
              "          dataTable['output_type'] = 'display_data';\n",
              "          await google.colab.output.renderOutput(dataTable, element);\n",
              "          const docLink = document.createElement('div');\n",
              "          docLink.innerHTML = docLinkHtml;\n",
              "          element.appendChild(docLink);\n",
              "        }\n",
              "      </script>\n",
              "    </div>\n",
              "  </div>\n",
              "  "
            ]
          },
          "metadata": {},
          "execution_count": 47
        }
      ]
    },
    {
      "cell_type": "markdown",
      "source": [
        "## 1. Pre-process data (Data Cleansing) [20 points]\n",
        "\n",
        "Check to see if data has gaps Nulls, N/A, None. Do you have anomalies (Outliers)?\n",
        "Analyze the label (e.g., in classification, check to see if data is balanced)\n",
        "Encode columns that contains text\n",
        "Normalize numerical columns"
      ],
      "metadata": {
        "id": "2xWhHSHVokyd"
      }
    },
    {
      "cell_type": "code",
      "source": [
        "df.columns"
      ],
      "metadata": {
        "colab": {
          "base_uri": "https://localhost:8080/"
        },
        "id": "-i2-UCZvptoY",
        "outputId": "9661008e-041e-4387-af9a-f40d725d8f58"
      },
      "execution_count": null,
      "outputs": [
        {
          "output_type": "execute_result",
          "data": {
            "text/plain": [
              "RangeIndex(start=0, stop=7, step=1)"
            ]
          },
          "metadata": {},
          "execution_count": 48
        }
      ]
    },
    {
      "cell_type": "code",
      "source": [
        "#drop the first column as it as repeating serial number from the PDF file.\n",
        "df.drop(df.columns[0:1],axis=1, inplace=True)"
      ],
      "metadata": {
        "id": "LTScY50Iuzs2"
      },
      "execution_count": null,
      "outputs": []
    },
    {
      "cell_type": "code",
      "source": [
        "#adjust the index, start at 1\n",
        "df.index = np.arange(1, len(df) + 1)"
      ],
      "metadata": {
        "id": "waYyGprIvMLu"
      },
      "execution_count": null,
      "outputs": []
    },
    {
      "cell_type": "markdown",
      "source": [
        "### Adjust column names"
      ],
      "metadata": {
        "id": "tVchkZRDcLp-"
      }
    },
    {
      "cell_type": "code",
      "source": [
        "# Manually add the column names \n",
        "#df.columns = tables[0].df.iloc[0].tolist()\n",
        "df.columns = ['Gift','Recipient','Date','Assessed_Value','Retention_Cost','Remarks']"
      ],
      "metadata": {
        "id": "6gtMVM6CkWfN"
      },
      "execution_count": null,
      "outputs": []
    },
    {
      "cell_type": "code",
      "source": [
        "df.dtypes\n"
      ],
      "metadata": {
        "colab": {
          "base_uri": "https://localhost:8080/"
        },
        "id": "FS2-46eTsJkc",
        "outputId": "c1f1e90c-9a86-4595-9c5e-f3746cccc129"
      },
      "execution_count": null,
      "outputs": [
        {
          "output_type": "execute_result",
          "data": {
            "text/plain": [
              "Gift              object\n",
              "Recipient         object\n",
              "Date              object\n",
              "Assessed_Value    object\n",
              "Retention_Cost    object\n",
              "Remarks           object\n",
              "dtype: object"
            ]
          },
          "metadata": {},
          "execution_count": 52
        }
      ]
    },
    {
      "cell_type": "markdown",
      "source": [
        "### Covert columns to String datatype - intermediary step"
      ],
      "metadata": {
        "id": "gvx9SD5OcPSA"
      }
    },
    {
      "cell_type": "code",
      "source": [
        "#Change column data types\n",
        "for col_name in df.columns:\n",
        "  df[col_name] = df[col_name].astype('string')"
      ],
      "metadata": {
        "id": "nNHJg0VkwhyU"
      },
      "execution_count": null,
      "outputs": []
    },
    {
      "cell_type": "code",
      "source": [
        "#Strip spaces at start and end\n",
        "for col_name in df.columns:\n",
        "  df[col_name] = df[col_name].str.strip()"
      ],
      "metadata": {
        "id": "hHn2zDmH4973"
      },
      "execution_count": null,
      "outputs": []
    },
    {
      "cell_type": "code",
      "source": [
        "df.dtypes"
      ],
      "metadata": {
        "colab": {
          "base_uri": "https://localhost:8080/"
        },
        "id": "7NyZjGsj41b3",
        "outputId": "cc64ce56-7954-4abf-87d8-5129815247b3"
      },
      "execution_count": null,
      "outputs": [
        {
          "output_type": "execute_result",
          "data": {
            "text/plain": [
              "Gift              string\n",
              "Recipient         string\n",
              "Date              string\n",
              "Assessed_Value    string\n",
              "Retention_Cost    string\n",
              "Remarks           string\n",
              "dtype: object"
            ]
          },
          "metadata": {},
          "execution_count": 55
        }
      ]
    },
    {
      "cell_type": "markdown",
      "source": [
        "### Remove records without data"
      ],
      "metadata": {
        "id": "0FI73HUycUYH"
      }
    },
    {
      "cell_type": "code",
      "source": [
        "#remove rows with empty strings '' - boolean indexing\n",
        "for col_name in df.columns:\n",
        "  df = df[df[col_name] != '']"
      ],
      "metadata": {
        "id": "AHFaWw_A55O3"
      },
      "execution_count": null,
      "outputs": []
    },
    {
      "cell_type": "code",
      "source": [
        "for col_name in df.columns:\n",
        "    print('NAs in column', col_name, 'are: ',df[col_name].isna().sum())"
      ],
      "metadata": {
        "colab": {
          "base_uri": "https://localhost:8080/"
        },
        "id": "c46xP40k0041",
        "outputId": "e18cfa85-d3f1-4cf1-9b2c-affd520cd854"
      },
      "execution_count": null,
      "outputs": [
        {
          "output_type": "stream",
          "name": "stdout",
          "text": [
            "NAs in column Gift are:  0\n",
            "NAs in column Recipient are:  0\n",
            "NAs in column Date are:  0\n",
            "NAs in column Assessed_Value are:  0\n",
            "NAs in column Retention_Cost are:  0\n",
            "NAs in column Remarks are:  0\n"
          ]
        }
      ]
    },
    {
      "cell_type": "markdown",
      "source": [
        "### Covert the 'Date' column to datetime datatype"
      ],
      "metadata": {
        "id": "gT_tXGZNcfLu"
      }
    },
    {
      "cell_type": "code",
      "source": [
        "df['Date'] = pd.to_datetime(df['Date'], format='%d-%m-%Y', errors='coerce')"
      ],
      "metadata": {
        "id": "BCdYgcW_2Us0"
      },
      "execution_count": null,
      "outputs": []
    },
    {
      "cell_type": "code",
      "source": [
        "#drop incorrectly formatted date records\n",
        "df=df.dropna(subset=['Date'])"
      ],
      "metadata": {
        "id": "e-7oohgp7zdu"
      },
      "execution_count": null,
      "outputs": []
    },
    {
      "cell_type": "code",
      "source": [
        "df.dtypes"
      ],
      "metadata": {
        "colab": {
          "base_uri": "https://localhost:8080/"
        },
        "id": "JFDIJRLp7-Zp",
        "outputId": "235b8f9e-3de0-4be7-d61e-47f02f90e8e6"
      },
      "execution_count": null,
      "outputs": [
        {
          "output_type": "execute_result",
          "data": {
            "text/plain": [
              "Gift                      string\n",
              "Recipient                 string\n",
              "Date              datetime64[ns]\n",
              "Assessed_Value            string\n",
              "Retention_Cost            string\n",
              "Remarks                   string\n",
              "dtype: object"
            ]
          },
          "metadata": {},
          "execution_count": 60
        }
      ]
    },
    {
      "cell_type": "markdown",
      "source": [
        "### Remove ',' from currency figure"
      ],
      "metadata": {
        "id": "h4ZWVfYvcnTu"
      }
    },
    {
      "cell_type": "code",
      "source": [
        "#remove ,\n",
        "df['Assessed_Value'] = df['Assessed_Value'].str.replace(',', '', regex=False)"
      ],
      "metadata": {
        "id": "k6BM4PRf8rp_"
      },
      "execution_count": null,
      "outputs": []
    },
    {
      "cell_type": "code",
      "source": [
        "df_bck = df.copy()"
      ],
      "metadata": {
        "id": "wzGQM56MfYw2"
      },
      "execution_count": null,
      "outputs": []
    },
    {
      "cell_type": "code",
      "source": [
        "#split multi line values into different columns\n",
        "#split_columns = df['Assessed_Value'].str.split(pat=\"\\n\", expand=True) \n",
        "#split_columns = split_columns.add_prefix('Assessed_')\n",
        "#num_splits = split_columns.shape[1]"
      ],
      "metadata": {
        "id": "dIfBrxov24re"
      },
      "execution_count": null,
      "outputs": []
    },
    {
      "cell_type": "markdown",
      "source": [
        "### Clean up composite values (multi-line) and Add new features"
      ],
      "metadata": {
        "id": "PGuDwLSqb-jd"
      }
    },
    {
      "cell_type": "code",
      "source": [
        "# split values with multiple lines (composite values) into multiple columns\n",
        "# if Total is already included in the composite value, then extract the 'Total' value\n",
        "\n",
        "for i, row in df.iterrows():\n",
        "    if 'tot' in row['Assessed_Value'].lower() and ':' in row['Assessed_Value']: #look for 'tot'\n",
        "      split_values = row['Assessed_Value'].split(':')\n",
        "      df.at[i, 'Assessed_Raw'] = split_values[0]\n",
        "      df.at[i, 'Assessed_Total'] = split_values[1]\n",
        "    elif 'tot' in row['Assessed_Value'].lower() and ':' not in row['Assessed_Value']: #look for 'tot'\n",
        "      df.at[i, 'Assessed_Total'] = row['Assessed_Value'].split('.')[1]\n",
        "    elif 'tot' not in row['Assessed_Value'].lower() and '\\n' in row['Assessed_Value']: #split multi-line values\n",
        "      split_cols = re.split('\\n|\\t', row['Assessed_Value'])\n",
        "      for isplit, val in enumerate(split_cols):\n",
        "        df.loc[i, f'Assessed_{isplit+1}'] = val.strip()\n",
        "    else: # single value, retain it\n",
        "      df.at[i, 'Assessed_Total'] = row['Assessed_Value']\n",
        "  \n",
        "    # add new feature, Gender\n",
        "    gender_str = [ 'ms.', 'mrs', 'begum', 'daughter', 'lady', 'miss', 'wife']\n",
        "    if any(search_str in row['Recipient'].lower() for search_str in gender_str):\n",
        "      df.at[i, 'Gender'] = 'F'\n",
        "    else:\n",
        "      df.at[i, 'Gender'] = 'M' \n",
        "    \n",
        "    # add new feature, Department\n",
        "    dept_str = [ 'admiral', 'marshal', 'navy', 'paf', 'army' , 'cdr', 'brig', 'capt', 'col', 'flt', 'general', 'gen.', 'maj']\n",
        "    if any(search_str in row['Recipient'].lower() for search_str in dept_str):\n",
        "      df.at[i, 'Dept'] = 'Military'\n",
        "    else:\n",
        "      df.at[i, 'Dept'] = 'Civilian'\n",
        "    \n",
        "    # add new feature, Level\n",
        "    level_str = [ 'hav', 'nk', 'n/k', 'sep', 'cons']\n",
        "    if any(search_str in row['Recipient'].lower() for search_str in level_str):\n",
        "      df.at[i, 'Level'] = 'Junior'\n",
        "    else:\n",
        "      df.at[i, 'Level'] = 'Senior'\n",
        "  "
      ],
      "metadata": {
        "id": "7IJsRgqqkPCX"
      },
      "execution_count": null,
      "outputs": []
    },
    {
      "cell_type": "code",
      "source": [
        "df.head()"
      ],
      "metadata": {
        "colab": {
          "base_uri": "https://localhost:8080/",
          "height": 560
        },
        "id": "PhCzYn3qSiKd",
        "outputId": "1decfba8-aa56-495a-cb31-2d7987a86383"
      },
      "execution_count": null,
      "outputs": [
        {
          "output_type": "execute_result",
          "data": {
            "text/plain": [
              "                                Gift  \\\n",
              "1          Two \n",
              "small \n",
              "silver \n",
              "Bowls   \n",
              "2            One Pilot Pen with \n",
              "ink   \n",
              "3                    One silver vase   \n",
              "4  One \n",
              "(decoration) \n",
              "folding Screen   \n",
              "5             One \n",
              "Decoration \n",
              "Piece   \n",
              "\n",
              "                                           Recipient       Date  \\\n",
              "1  Mr.  Abdul  Sattar,  Minister  for  Foreign \n",
              "A... 2002-01-08   \n",
              "2  Mr.  Abdul  Sattar,  Minister  for  Foreign \n",
              "A... 2002-01-08   \n",
              "3             Mr. Shaukat Aziz, Minister for Finance 2002-01-09   \n",
              "4  Mr.  Abdul  Sattar,  Minister  for  Foreign \n",
              "A... 2002-01-15   \n",
              "5  Mr.  Abdul  Sattar,  Minister  for  Foreign \n",
              "A... 2002-01-22   \n",
              "\n",
              "  Assessed_Value Retention_Cost   Remarks Assessed_Total Gender      Dept  \\\n",
              "1      Rs.5000/-   Free of cost  Retained           5000      M  Civilian   \n",
              "2      Rs.3500/-   Free of cost  Retained           3500      M  Civilian   \n",
              "3      Rs.7500/-   Free of cost  Retained           7500      M  Civilian   \n",
              "4      Rs.2200/-   Free of cost  Retained           2200      M  Civilian   \n",
              "5      Rs.2000/-   Free of cost  Retained           2000      M  Civilian   \n",
              "\n",
              "    Level  ... Assessed_11 Assessed_12 Assessed_13 Assessed_Raw Assessed_14  \\\n",
              "1  Senior  ...         NaN         NaN         NaN            0         NaN   \n",
              "2  Senior  ...         NaN         NaN         NaN            0         NaN   \n",
              "3  Senior  ...         NaN         NaN         NaN            0         NaN   \n",
              "4  Senior  ...         NaN         NaN         NaN            0         NaN   \n",
              "5  Senior  ...         NaN         NaN         NaN            0         NaN   \n",
              "\n",
              "  Assessed_15 Assessed_16 Assessed_17 Assessed_18 Assessed_19  \n",
              "1         NaN         NaN         NaN         NaN         NaN  \n",
              "2         NaN         NaN         NaN         NaN         NaN  \n",
              "3         NaN         NaN         NaN         NaN         NaN  \n",
              "4         NaN         NaN         NaN         NaN         NaN  \n",
              "5         NaN         NaN         NaN         NaN         NaN  \n",
              "\n",
              "[5 rows x 30 columns]"
            ],
            "text/html": [
              "\n",
              "  <div id=\"df-0f85b862-57dd-4622-a918-eeede352156b\">\n",
              "    <div class=\"colab-df-container\">\n",
              "      <div>\n",
              "<style scoped>\n",
              "    .dataframe tbody tr th:only-of-type {\n",
              "        vertical-align: middle;\n",
              "    }\n",
              "\n",
              "    .dataframe tbody tr th {\n",
              "        vertical-align: top;\n",
              "    }\n",
              "\n",
              "    .dataframe thead th {\n",
              "        text-align: right;\n",
              "    }\n",
              "</style>\n",
              "<table border=\"1\" class=\"dataframe\">\n",
              "  <thead>\n",
              "    <tr style=\"text-align: right;\">\n",
              "      <th></th>\n",
              "      <th>Gift</th>\n",
              "      <th>Recipient</th>\n",
              "      <th>Date</th>\n",
              "      <th>Assessed_Value</th>\n",
              "      <th>Retention_Cost</th>\n",
              "      <th>Remarks</th>\n",
              "      <th>Assessed_Total</th>\n",
              "      <th>Gender</th>\n",
              "      <th>Dept</th>\n",
              "      <th>Level</th>\n",
              "      <th>...</th>\n",
              "      <th>Assessed_11</th>\n",
              "      <th>Assessed_12</th>\n",
              "      <th>Assessed_13</th>\n",
              "      <th>Assessed_Raw</th>\n",
              "      <th>Assessed_14</th>\n",
              "      <th>Assessed_15</th>\n",
              "      <th>Assessed_16</th>\n",
              "      <th>Assessed_17</th>\n",
              "      <th>Assessed_18</th>\n",
              "      <th>Assessed_19</th>\n",
              "    </tr>\n",
              "  </thead>\n",
              "  <tbody>\n",
              "    <tr>\n",
              "      <th>1</th>\n",
              "      <td>Two \n",
              "small \n",
              "silver \n",
              "Bowls</td>\n",
              "      <td>Mr.  Abdul  Sattar,  Minister  for  Foreign \n",
              "A...</td>\n",
              "      <td>2002-01-08</td>\n",
              "      <td>Rs.5000/-</td>\n",
              "      <td>Free of cost</td>\n",
              "      <td>Retained</td>\n",
              "      <td>5000</td>\n",
              "      <td>M</td>\n",
              "      <td>Civilian</td>\n",
              "      <td>Senior</td>\n",
              "      <td>...</td>\n",
              "      <td>NaN</td>\n",
              "      <td>NaN</td>\n",
              "      <td>NaN</td>\n",
              "      <td>0</td>\n",
              "      <td>NaN</td>\n",
              "      <td>NaN</td>\n",
              "      <td>NaN</td>\n",
              "      <td>NaN</td>\n",
              "      <td>NaN</td>\n",
              "      <td>NaN</td>\n",
              "    </tr>\n",
              "    <tr>\n",
              "      <th>2</th>\n",
              "      <td>One Pilot Pen with \n",
              "ink</td>\n",
              "      <td>Mr.  Abdul  Sattar,  Minister  for  Foreign \n",
              "A...</td>\n",
              "      <td>2002-01-08</td>\n",
              "      <td>Rs.3500/-</td>\n",
              "      <td>Free of cost</td>\n",
              "      <td>Retained</td>\n",
              "      <td>3500</td>\n",
              "      <td>M</td>\n",
              "      <td>Civilian</td>\n",
              "      <td>Senior</td>\n",
              "      <td>...</td>\n",
              "      <td>NaN</td>\n",
              "      <td>NaN</td>\n",
              "      <td>NaN</td>\n",
              "      <td>0</td>\n",
              "      <td>NaN</td>\n",
              "      <td>NaN</td>\n",
              "      <td>NaN</td>\n",
              "      <td>NaN</td>\n",
              "      <td>NaN</td>\n",
              "      <td>NaN</td>\n",
              "    </tr>\n",
              "    <tr>\n",
              "      <th>3</th>\n",
              "      <td>One silver vase</td>\n",
              "      <td>Mr. Shaukat Aziz, Minister for Finance</td>\n",
              "      <td>2002-01-09</td>\n",
              "      <td>Rs.7500/-</td>\n",
              "      <td>Free of cost</td>\n",
              "      <td>Retained</td>\n",
              "      <td>7500</td>\n",
              "      <td>M</td>\n",
              "      <td>Civilian</td>\n",
              "      <td>Senior</td>\n",
              "      <td>...</td>\n",
              "      <td>NaN</td>\n",
              "      <td>NaN</td>\n",
              "      <td>NaN</td>\n",
              "      <td>0</td>\n",
              "      <td>NaN</td>\n",
              "      <td>NaN</td>\n",
              "      <td>NaN</td>\n",
              "      <td>NaN</td>\n",
              "      <td>NaN</td>\n",
              "      <td>NaN</td>\n",
              "    </tr>\n",
              "    <tr>\n",
              "      <th>4</th>\n",
              "      <td>One \n",
              "(decoration) \n",
              "folding Screen</td>\n",
              "      <td>Mr.  Abdul  Sattar,  Minister  for  Foreign \n",
              "A...</td>\n",
              "      <td>2002-01-15</td>\n",
              "      <td>Rs.2200/-</td>\n",
              "      <td>Free of cost</td>\n",
              "      <td>Retained</td>\n",
              "      <td>2200</td>\n",
              "      <td>M</td>\n",
              "      <td>Civilian</td>\n",
              "      <td>Senior</td>\n",
              "      <td>...</td>\n",
              "      <td>NaN</td>\n",
              "      <td>NaN</td>\n",
              "      <td>NaN</td>\n",
              "      <td>0</td>\n",
              "      <td>NaN</td>\n",
              "      <td>NaN</td>\n",
              "      <td>NaN</td>\n",
              "      <td>NaN</td>\n",
              "      <td>NaN</td>\n",
              "      <td>NaN</td>\n",
              "    </tr>\n",
              "    <tr>\n",
              "      <th>5</th>\n",
              "      <td>One \n",
              "Decoration \n",
              "Piece</td>\n",
              "      <td>Mr.  Abdul  Sattar,  Minister  for  Foreign \n",
              "A...</td>\n",
              "      <td>2002-01-22</td>\n",
              "      <td>Rs.2000/-</td>\n",
              "      <td>Free of cost</td>\n",
              "      <td>Retained</td>\n",
              "      <td>2000</td>\n",
              "      <td>M</td>\n",
              "      <td>Civilian</td>\n",
              "      <td>Senior</td>\n",
              "      <td>...</td>\n",
              "      <td>NaN</td>\n",
              "      <td>NaN</td>\n",
              "      <td>NaN</td>\n",
              "      <td>0</td>\n",
              "      <td>NaN</td>\n",
              "      <td>NaN</td>\n",
              "      <td>NaN</td>\n",
              "      <td>NaN</td>\n",
              "      <td>NaN</td>\n",
              "      <td>NaN</td>\n",
              "    </tr>\n",
              "  </tbody>\n",
              "</table>\n",
              "<p>5 rows × 30 columns</p>\n",
              "</div>\n",
              "      <button class=\"colab-df-convert\" onclick=\"convertToInteractive('df-0f85b862-57dd-4622-a918-eeede352156b')\"\n",
              "              title=\"Convert this dataframe to an interactive table.\"\n",
              "              style=\"display:none;\">\n",
              "        \n",
              "  <svg xmlns=\"http://www.w3.org/2000/svg\" height=\"24px\"viewBox=\"0 0 24 24\"\n",
              "       width=\"24px\">\n",
              "    <path d=\"M0 0h24v24H0V0z\" fill=\"none\"/>\n",
              "    <path d=\"M18.56 5.44l.94 2.06.94-2.06 2.06-.94-2.06-.94-.94-2.06-.94 2.06-2.06.94zm-11 1L8.5 8.5l.94-2.06 2.06-.94-2.06-.94L8.5 2.5l-.94 2.06-2.06.94zm10 10l.94 2.06.94-2.06 2.06-.94-2.06-.94-.94-2.06-.94 2.06-2.06.94z\"/><path d=\"M17.41 7.96l-1.37-1.37c-.4-.4-.92-.59-1.43-.59-.52 0-1.04.2-1.43.59L10.3 9.45l-7.72 7.72c-.78.78-.78 2.05 0 2.83L4 21.41c.39.39.9.59 1.41.59.51 0 1.02-.2 1.41-.59l7.78-7.78 2.81-2.81c.8-.78.8-2.07 0-2.86zM5.41 20L4 18.59l7.72-7.72 1.47 1.35L5.41 20z\"/>\n",
              "  </svg>\n",
              "      </button>\n",
              "      \n",
              "  <style>\n",
              "    .colab-df-container {\n",
              "      display:flex;\n",
              "      flex-wrap:wrap;\n",
              "      gap: 12px;\n",
              "    }\n",
              "\n",
              "    .colab-df-convert {\n",
              "      background-color: #E8F0FE;\n",
              "      border: none;\n",
              "      border-radius: 50%;\n",
              "      cursor: pointer;\n",
              "      display: none;\n",
              "      fill: #1967D2;\n",
              "      height: 32px;\n",
              "      padding: 0 0 0 0;\n",
              "      width: 32px;\n",
              "    }\n",
              "\n",
              "    .colab-df-convert:hover {\n",
              "      background-color: #E2EBFA;\n",
              "      box-shadow: 0px 1px 2px rgba(60, 64, 67, 0.3), 0px 1px 3px 1px rgba(60, 64, 67, 0.15);\n",
              "      fill: #174EA6;\n",
              "    }\n",
              "\n",
              "    [theme=dark] .colab-df-convert {\n",
              "      background-color: #3B4455;\n",
              "      fill: #D2E3FC;\n",
              "    }\n",
              "\n",
              "    [theme=dark] .colab-df-convert:hover {\n",
              "      background-color: #434B5C;\n",
              "      box-shadow: 0px 1px 3px 1px rgba(0, 0, 0, 0.15);\n",
              "      filter: drop-shadow(0px 1px 2px rgba(0, 0, 0, 0.3));\n",
              "      fill: #FFFFFF;\n",
              "    }\n",
              "  </style>\n",
              "\n",
              "      <script>\n",
              "        const buttonEl =\n",
              "          document.querySelector('#df-0f85b862-57dd-4622-a918-eeede352156b button.colab-df-convert');\n",
              "        buttonEl.style.display =\n",
              "          google.colab.kernel.accessAllowed ? 'block' : 'none';\n",
              "\n",
              "        async function convertToInteractive(key) {\n",
              "          const element = document.querySelector('#df-0f85b862-57dd-4622-a918-eeede352156b');\n",
              "          const dataTable =\n",
              "            await google.colab.kernel.invokeFunction('convertToInteractive',\n",
              "                                                     [key], {});\n",
              "          if (!dataTable) return;\n",
              "\n",
              "          const docLinkHtml = 'Like what you see? Visit the ' +\n",
              "            '<a target=\"_blank\" href=https://colab.research.google.com/notebooks/data_table.ipynb>data table notebook</a>'\n",
              "            + ' to learn more about interactive tables.';\n",
              "          element.innerHTML = '';\n",
              "          dataTable['output_type'] = 'display_data';\n",
              "          await google.colab.output.renderOutput(dataTable, element);\n",
              "          const docLink = document.createElement('div');\n",
              "          docLink.innerHTML = docLinkHtml;\n",
              "          element.appendChild(docLink);\n",
              "        }\n",
              "      </script>\n",
              "    </div>\n",
              "  </div>\n",
              "  "
            ]
          },
          "metadata": {},
          "execution_count": 69
        }
      ]
    },
    {
      "cell_type": "markdown",
      "source": [
        "### Fill null / NaN values"
      ],
      "metadata": {
        "id": "WzWnrjH6c5tW"
      }
    },
    {
      "cell_type": "code",
      "source": [
        "df = df.fillna(0)"
      ],
      "metadata": {
        "id": "wGHQJDXklfwt"
      },
      "execution_count": null,
      "outputs": []
    },
    {
      "cell_type": "markdown",
      "source": [
        "### Replace NCV with 0 from Assessed_ columns"
      ],
      "metadata": {
        "id": "74Uk_eDqdAxc"
      }
    },
    {
      "cell_type": "code",
      "source": [
        "# replace NCV (No Cash Value) with 0\n",
        "for z in range(1,20): #go through each column\n",
        "   df['Assessed_'+str(z)] = df['Assessed_'+str(z)].str.replace('ncv', '0', case=False, regex=False)"
      ],
      "metadata": {
        "id": "t9o2lUOlHsq_"
      },
      "execution_count": null,
      "outputs": []
    },
    {
      "cell_type": "markdown",
      "source": [
        "### Extract numbers/digits using regular expression and store in a new column"
      ],
      "metadata": {
        "id": "Ah5RfScXdEmN"
      }
    },
    {
      "cell_type": "code",
      "source": [
        "#extract numbers\n",
        "for z in range(1,20):\n",
        "  df['Assessed_'+str(z)] = df['Assessed_'+str(z)].str.replace('\\D+', '', regex=True)\n",
        "df['Assessed_Total'] = df['Assessed_Total'].str.replace('\\D+', '', regex=True)  "
      ],
      "metadata": {
        "id": "Ojab6_bLIr2r"
      },
      "execution_count": null,
      "outputs": []
    },
    {
      "cell_type": "markdown",
      "source": [
        "### Change column datatype to numeric"
      ],
      "metadata": {
        "id": "UfzdH0CbdMij"
      }
    },
    {
      "cell_type": "code",
      "source": [
        "#change to numeric\n",
        "for z in range(1,20):\n",
        "   df['Assessed_'+str(z)] = pd.to_numeric(df['Assessed_'+str(z)])\n",
        "\n",
        "df['Assessed_Total'] = pd.to_numeric(df['Assessed_Total'])\n"
      ],
      "metadata": {
        "id": "SwAZn_yaJcF4"
      },
      "execution_count": null,
      "outputs": []
    },
    {
      "cell_type": "code",
      "source": [
        "df = df.fillna(0)"
      ],
      "metadata": {
        "id": "V8SeH347P1Pr"
      },
      "execution_count": null,
      "outputs": []
    },
    {
      "cell_type": "code",
      "source": [
        "df.head()"
      ],
      "metadata": {
        "colab": {
          "base_uri": "https://localhost:8080/",
          "height": 560
        },
        "id": "C1a-jkRhP_f7",
        "outputId": "62119522-944d-433a-f4bb-9a570ba8b807"
      },
      "execution_count": null,
      "outputs": [
        {
          "output_type": "execute_result",
          "data": {
            "text/plain": [
              "                                Gift  \\\n",
              "1          Two \n",
              "small \n",
              "silver \n",
              "Bowls   \n",
              "2            One Pilot Pen with \n",
              "ink   \n",
              "3                    One silver vase   \n",
              "4  One \n",
              "(decoration) \n",
              "folding Screen   \n",
              "5             One \n",
              "Decoration \n",
              "Piece   \n",
              "\n",
              "                                           Recipient       Date  \\\n",
              "1  Mr.  Abdul  Sattar,  Minister  for  Foreign \n",
              "A... 2002-01-08   \n",
              "2  Mr.  Abdul  Sattar,  Minister  for  Foreign \n",
              "A... 2002-01-08   \n",
              "3             Mr. Shaukat Aziz, Minister for Finance 2002-01-09   \n",
              "4  Mr.  Abdul  Sattar,  Minister  for  Foreign \n",
              "A... 2002-01-15   \n",
              "5  Mr.  Abdul  Sattar,  Minister  for  Foreign \n",
              "A... 2002-01-22   \n",
              "\n",
              "  Assessed_Value Retention_Cost   Remarks  Assessed_Total Gender      Dept  \\\n",
              "1      Rs.5000/-   Free of cost  Retained          5000.0      M  Civilian   \n",
              "2      Rs.3500/-   Free of cost  Retained          3500.0      M  Civilian   \n",
              "3      Rs.7500/-   Free of cost  Retained          7500.0      M  Civilian   \n",
              "4      Rs.2200/-   Free of cost  Retained          2200.0      M  Civilian   \n",
              "5      Rs.2000/-   Free of cost  Retained          2000.0      M  Civilian   \n",
              "\n",
              "    Level  ...  Assessed_11  Assessed_12  Assessed_13  Assessed_Raw  \\\n",
              "1  Senior  ...          0.0          0.0          0.0             0   \n",
              "2  Senior  ...          0.0          0.0          0.0             0   \n",
              "3  Senior  ...          0.0          0.0          0.0             0   \n",
              "4  Senior  ...          0.0          0.0          0.0             0   \n",
              "5  Senior  ...          0.0          0.0          0.0             0   \n",
              "\n",
              "   Assessed_14  Assessed_15  Assessed_16  Assessed_17  Assessed_18  \\\n",
              "1          0.0          0.0          0.0          0.0          0.0   \n",
              "2          0.0          0.0          0.0          0.0          0.0   \n",
              "3          0.0          0.0          0.0          0.0          0.0   \n",
              "4          0.0          0.0          0.0          0.0          0.0   \n",
              "5          0.0          0.0          0.0          0.0          0.0   \n",
              "\n",
              "   Assessed_19  \n",
              "1          0.0  \n",
              "2          0.0  \n",
              "3          0.0  \n",
              "4          0.0  \n",
              "5          0.0  \n",
              "\n",
              "[5 rows x 30 columns]"
            ],
            "text/html": [
              "\n",
              "  <div id=\"df-d155f9b9-34d2-489f-adda-94117ca7231e\">\n",
              "    <div class=\"colab-df-container\">\n",
              "      <div>\n",
              "<style scoped>\n",
              "    .dataframe tbody tr th:only-of-type {\n",
              "        vertical-align: middle;\n",
              "    }\n",
              "\n",
              "    .dataframe tbody tr th {\n",
              "        vertical-align: top;\n",
              "    }\n",
              "\n",
              "    .dataframe thead th {\n",
              "        text-align: right;\n",
              "    }\n",
              "</style>\n",
              "<table border=\"1\" class=\"dataframe\">\n",
              "  <thead>\n",
              "    <tr style=\"text-align: right;\">\n",
              "      <th></th>\n",
              "      <th>Gift</th>\n",
              "      <th>Recipient</th>\n",
              "      <th>Date</th>\n",
              "      <th>Assessed_Value</th>\n",
              "      <th>Retention_Cost</th>\n",
              "      <th>Remarks</th>\n",
              "      <th>Assessed_Total</th>\n",
              "      <th>Gender</th>\n",
              "      <th>Dept</th>\n",
              "      <th>Level</th>\n",
              "      <th>...</th>\n",
              "      <th>Assessed_11</th>\n",
              "      <th>Assessed_12</th>\n",
              "      <th>Assessed_13</th>\n",
              "      <th>Assessed_Raw</th>\n",
              "      <th>Assessed_14</th>\n",
              "      <th>Assessed_15</th>\n",
              "      <th>Assessed_16</th>\n",
              "      <th>Assessed_17</th>\n",
              "      <th>Assessed_18</th>\n",
              "      <th>Assessed_19</th>\n",
              "    </tr>\n",
              "  </thead>\n",
              "  <tbody>\n",
              "    <tr>\n",
              "      <th>1</th>\n",
              "      <td>Two \n",
              "small \n",
              "silver \n",
              "Bowls</td>\n",
              "      <td>Mr.  Abdul  Sattar,  Minister  for  Foreign \n",
              "A...</td>\n",
              "      <td>2002-01-08</td>\n",
              "      <td>Rs.5000/-</td>\n",
              "      <td>Free of cost</td>\n",
              "      <td>Retained</td>\n",
              "      <td>5000.0</td>\n",
              "      <td>M</td>\n",
              "      <td>Civilian</td>\n",
              "      <td>Senior</td>\n",
              "      <td>...</td>\n",
              "      <td>0.0</td>\n",
              "      <td>0.0</td>\n",
              "      <td>0.0</td>\n",
              "      <td>0</td>\n",
              "      <td>0.0</td>\n",
              "      <td>0.0</td>\n",
              "      <td>0.0</td>\n",
              "      <td>0.0</td>\n",
              "      <td>0.0</td>\n",
              "      <td>0.0</td>\n",
              "    </tr>\n",
              "    <tr>\n",
              "      <th>2</th>\n",
              "      <td>One Pilot Pen with \n",
              "ink</td>\n",
              "      <td>Mr.  Abdul  Sattar,  Minister  for  Foreign \n",
              "A...</td>\n",
              "      <td>2002-01-08</td>\n",
              "      <td>Rs.3500/-</td>\n",
              "      <td>Free of cost</td>\n",
              "      <td>Retained</td>\n",
              "      <td>3500.0</td>\n",
              "      <td>M</td>\n",
              "      <td>Civilian</td>\n",
              "      <td>Senior</td>\n",
              "      <td>...</td>\n",
              "      <td>0.0</td>\n",
              "      <td>0.0</td>\n",
              "      <td>0.0</td>\n",
              "      <td>0</td>\n",
              "      <td>0.0</td>\n",
              "      <td>0.0</td>\n",
              "      <td>0.0</td>\n",
              "      <td>0.0</td>\n",
              "      <td>0.0</td>\n",
              "      <td>0.0</td>\n",
              "    </tr>\n",
              "    <tr>\n",
              "      <th>3</th>\n",
              "      <td>One silver vase</td>\n",
              "      <td>Mr. Shaukat Aziz, Minister for Finance</td>\n",
              "      <td>2002-01-09</td>\n",
              "      <td>Rs.7500/-</td>\n",
              "      <td>Free of cost</td>\n",
              "      <td>Retained</td>\n",
              "      <td>7500.0</td>\n",
              "      <td>M</td>\n",
              "      <td>Civilian</td>\n",
              "      <td>Senior</td>\n",
              "      <td>...</td>\n",
              "      <td>0.0</td>\n",
              "      <td>0.0</td>\n",
              "      <td>0.0</td>\n",
              "      <td>0</td>\n",
              "      <td>0.0</td>\n",
              "      <td>0.0</td>\n",
              "      <td>0.0</td>\n",
              "      <td>0.0</td>\n",
              "      <td>0.0</td>\n",
              "      <td>0.0</td>\n",
              "    </tr>\n",
              "    <tr>\n",
              "      <th>4</th>\n",
              "      <td>One \n",
              "(decoration) \n",
              "folding Screen</td>\n",
              "      <td>Mr.  Abdul  Sattar,  Minister  for  Foreign \n",
              "A...</td>\n",
              "      <td>2002-01-15</td>\n",
              "      <td>Rs.2200/-</td>\n",
              "      <td>Free of cost</td>\n",
              "      <td>Retained</td>\n",
              "      <td>2200.0</td>\n",
              "      <td>M</td>\n",
              "      <td>Civilian</td>\n",
              "      <td>Senior</td>\n",
              "      <td>...</td>\n",
              "      <td>0.0</td>\n",
              "      <td>0.0</td>\n",
              "      <td>0.0</td>\n",
              "      <td>0</td>\n",
              "      <td>0.0</td>\n",
              "      <td>0.0</td>\n",
              "      <td>0.0</td>\n",
              "      <td>0.0</td>\n",
              "      <td>0.0</td>\n",
              "      <td>0.0</td>\n",
              "    </tr>\n",
              "    <tr>\n",
              "      <th>5</th>\n",
              "      <td>One \n",
              "Decoration \n",
              "Piece</td>\n",
              "      <td>Mr.  Abdul  Sattar,  Minister  for  Foreign \n",
              "A...</td>\n",
              "      <td>2002-01-22</td>\n",
              "      <td>Rs.2000/-</td>\n",
              "      <td>Free of cost</td>\n",
              "      <td>Retained</td>\n",
              "      <td>2000.0</td>\n",
              "      <td>M</td>\n",
              "      <td>Civilian</td>\n",
              "      <td>Senior</td>\n",
              "      <td>...</td>\n",
              "      <td>0.0</td>\n",
              "      <td>0.0</td>\n",
              "      <td>0.0</td>\n",
              "      <td>0</td>\n",
              "      <td>0.0</td>\n",
              "      <td>0.0</td>\n",
              "      <td>0.0</td>\n",
              "      <td>0.0</td>\n",
              "      <td>0.0</td>\n",
              "      <td>0.0</td>\n",
              "    </tr>\n",
              "  </tbody>\n",
              "</table>\n",
              "<p>5 rows × 30 columns</p>\n",
              "</div>\n",
              "      <button class=\"colab-df-convert\" onclick=\"convertToInteractive('df-d155f9b9-34d2-489f-adda-94117ca7231e')\"\n",
              "              title=\"Convert this dataframe to an interactive table.\"\n",
              "              style=\"display:none;\">\n",
              "        \n",
              "  <svg xmlns=\"http://www.w3.org/2000/svg\" height=\"24px\"viewBox=\"0 0 24 24\"\n",
              "       width=\"24px\">\n",
              "    <path d=\"M0 0h24v24H0V0z\" fill=\"none\"/>\n",
              "    <path d=\"M18.56 5.44l.94 2.06.94-2.06 2.06-.94-2.06-.94-.94-2.06-.94 2.06-2.06.94zm-11 1L8.5 8.5l.94-2.06 2.06-.94-2.06-.94L8.5 2.5l-.94 2.06-2.06.94zm10 10l.94 2.06.94-2.06 2.06-.94-2.06-.94-.94-2.06-.94 2.06-2.06.94z\"/><path d=\"M17.41 7.96l-1.37-1.37c-.4-.4-.92-.59-1.43-.59-.52 0-1.04.2-1.43.59L10.3 9.45l-7.72 7.72c-.78.78-.78 2.05 0 2.83L4 21.41c.39.39.9.59 1.41.59.51 0 1.02-.2 1.41-.59l7.78-7.78 2.81-2.81c.8-.78.8-2.07 0-2.86zM5.41 20L4 18.59l7.72-7.72 1.47 1.35L5.41 20z\"/>\n",
              "  </svg>\n",
              "      </button>\n",
              "      \n",
              "  <style>\n",
              "    .colab-df-container {\n",
              "      display:flex;\n",
              "      flex-wrap:wrap;\n",
              "      gap: 12px;\n",
              "    }\n",
              "\n",
              "    .colab-df-convert {\n",
              "      background-color: #E8F0FE;\n",
              "      border: none;\n",
              "      border-radius: 50%;\n",
              "      cursor: pointer;\n",
              "      display: none;\n",
              "      fill: #1967D2;\n",
              "      height: 32px;\n",
              "      padding: 0 0 0 0;\n",
              "      width: 32px;\n",
              "    }\n",
              "\n",
              "    .colab-df-convert:hover {\n",
              "      background-color: #E2EBFA;\n",
              "      box-shadow: 0px 1px 2px rgba(60, 64, 67, 0.3), 0px 1px 3px 1px rgba(60, 64, 67, 0.15);\n",
              "      fill: #174EA6;\n",
              "    }\n",
              "\n",
              "    [theme=dark] .colab-df-convert {\n",
              "      background-color: #3B4455;\n",
              "      fill: #D2E3FC;\n",
              "    }\n",
              "\n",
              "    [theme=dark] .colab-df-convert:hover {\n",
              "      background-color: #434B5C;\n",
              "      box-shadow: 0px 1px 3px 1px rgba(0, 0, 0, 0.15);\n",
              "      filter: drop-shadow(0px 1px 2px rgba(0, 0, 0, 0.3));\n",
              "      fill: #FFFFFF;\n",
              "    }\n",
              "  </style>\n",
              "\n",
              "      <script>\n",
              "        const buttonEl =\n",
              "          document.querySelector('#df-d155f9b9-34d2-489f-adda-94117ca7231e button.colab-df-convert');\n",
              "        buttonEl.style.display =\n",
              "          google.colab.kernel.accessAllowed ? 'block' : 'none';\n",
              "\n",
              "        async function convertToInteractive(key) {\n",
              "          const element = document.querySelector('#df-d155f9b9-34d2-489f-adda-94117ca7231e');\n",
              "          const dataTable =\n",
              "            await google.colab.kernel.invokeFunction('convertToInteractive',\n",
              "                                                     [key], {});\n",
              "          if (!dataTable) return;\n",
              "\n",
              "          const docLinkHtml = 'Like what you see? Visit the ' +\n",
              "            '<a target=\"_blank\" href=https://colab.research.google.com/notebooks/data_table.ipynb>data table notebook</a>'\n",
              "            + ' to learn more about interactive tables.';\n",
              "          element.innerHTML = '';\n",
              "          dataTable['output_type'] = 'display_data';\n",
              "          await google.colab.output.renderOutput(dataTable, element);\n",
              "          const docLink = document.createElement('div');\n",
              "          docLink.innerHTML = docLinkHtml;\n",
              "          element.appendChild(docLink);\n",
              "        }\n",
              "      </script>\n",
              "    </div>\n",
              "  </div>\n",
              "  "
            ]
          },
          "metadata": {},
          "execution_count": 75
        }
      ]
    },
    {
      "cell_type": "markdown",
      "source": [
        "### Calculate total assessed value (sum across columns)"
      ],
      "metadata": {
        "id": "jQrP0Ry2dUSU"
      }
    },
    {
      "cell_type": "code",
      "source": [
        "#make a list of column names that are to be added up\n",
        "column_names = []\n",
        "for z in range(1,20):\n",
        "   column_names.append(\"Assessed_\"+str(z))\n",
        "#sum the colums that were split. \n",
        "df['Assessed_Total_Final'] = df[column_names].sum(axis=1) + df['Assessed_Total']\n"
      ],
      "metadata": {
        "id": "xXck40aQKT3J"
      },
      "execution_count": null,
      "outputs": []
    },
    {
      "cell_type": "markdown",
      "source": [
        "### Drop unneccassary columns"
      ],
      "metadata": {
        "id": "-H0Xc8dzhwM8"
      }
    },
    {
      "cell_type": "code",
      "source": [
        "df = df.drop(column_names, axis=1)\n",
        "df = df.drop(['Assessed_Value', 'Assessed_Raw', 'Assessed_Total'], axis=1)\n"
      ],
      "metadata": {
        "id": "Ox7fzYphhL4P"
      },
      "execution_count": null,
      "outputs": []
    },
    {
      "cell_type": "markdown",
      "source": [
        "### Add Label column ('Retained')"
      ],
      "metadata": {
        "id": "qir1ZURykMAO"
      }
    },
    {
      "cell_type": "code",
      "source": [
        "df['Retained'] = np.where(df['Remarks'].str.contains('etain'), 'Y', 'N')\n"
      ],
      "metadata": {
        "id": "aZ57eqj8hqMF"
      },
      "execution_count": null,
      "outputs": []
    },
    {
      "cell_type": "code",
      "source": [
        "df.tail()"
      ],
      "metadata": {
        "colab": {
          "base_uri": "https://localhost:8080/",
          "height": 337
        },
        "id": "HSTnKfGes3Ga",
        "outputId": "970ca2bf-0a23-4366-d8b0-b059359c6da5"
      },
      "execution_count": null,
      "outputs": [
        {
          "output_type": "execute_result",
          "data": {
            "text/plain": [
              "                                                   Gift  \\\n",
              "4475                     One  Calligraphy  duly \n",
              "framed   \n",
              "4476  Set \n",
              "with \n",
              "a. Torsyk \n",
              "silver Tray  \n",
              "b. Book \n",
              "c...   \n",
              "4477                           One \n",
              "Carved \n",
              "wood \n",
              "panel   \n",
              "4478       a.  One Book \n",
              "b.  One Book \n",
              "c.  One Insignia   \n",
              "4479  Blanc \n",
              "a.  One  Mont \n",
              "Brief Case \n",
              "Blanc \n",
              "b.  O...   \n",
              "\n",
              "                                              Recipient       Date  \\\n",
              "4475  SP  Mahzoor \n",
              "Ali \n",
              "Ghauri, \n",
              "Chief \n",
              "Security \n",
              "Of... 2022-10-20   \n",
              "4476  Mian  Muhammad  Shehbaz  Sharif, \n",
              "Prime Minist... 2022-10-20   \n",
              "4477  Mian  Muhammad  Shehbaz  Sharif, \n",
              "Prime Minist... 2022-10-20   \n",
              "4478  Ms.  Marriyum  Aurangzeb,  Minister \n",
              "of Inform... 2022-10-24   \n",
              "4479  Mr. \n",
              "Bilawal \n",
              "Bhutto \n",
              "Zardari, \n",
              "Minister for F... 2022-10-24   \n",
              "\n",
              "     Retention_Cost                                            Remarks Gender  \\\n",
              "4475     Rs.6,000/-                 Amount \n",
              "deposited, \n",
              "gift \n",
              "retained      M   \n",
              "4476              -  S.No.(a) \n",
              "displayed at \n",
              "Prime \n",
              "Minister \n",
              "House...      M   \n",
              "4477              -                          Deposited \n",
              "in \n",
              "Toshakhana      M   \n",
              "4478   Free of cost                                         In process      F   \n",
              "4479              -                          Deposited \n",
              "in \n",
              "Toshakhana      M   \n",
              "\n",
              "          Dept   Level  Assessed_Total_Final Retained  \n",
              "4475  Civilian  Senior               42000.0        Y  \n",
              "4476  Civilian  Senior               85000.0        N  \n",
              "4477  Civilian  Senior               50000.0        N  \n",
              "4478  Civilian  Senior                9000.0        N  \n",
              "4479  Civilian  Senior              434000.0        N  "
            ],
            "text/html": [
              "\n",
              "  <div id=\"df-829a04d2-aa56-4cc7-9b19-316b9a97c489\">\n",
              "    <div class=\"colab-df-container\">\n",
              "      <div>\n",
              "<style scoped>\n",
              "    .dataframe tbody tr th:only-of-type {\n",
              "        vertical-align: middle;\n",
              "    }\n",
              "\n",
              "    .dataframe tbody tr th {\n",
              "        vertical-align: top;\n",
              "    }\n",
              "\n",
              "    .dataframe thead th {\n",
              "        text-align: right;\n",
              "    }\n",
              "</style>\n",
              "<table border=\"1\" class=\"dataframe\">\n",
              "  <thead>\n",
              "    <tr style=\"text-align: right;\">\n",
              "      <th></th>\n",
              "      <th>Gift</th>\n",
              "      <th>Recipient</th>\n",
              "      <th>Date</th>\n",
              "      <th>Retention_Cost</th>\n",
              "      <th>Remarks</th>\n",
              "      <th>Gender</th>\n",
              "      <th>Dept</th>\n",
              "      <th>Level</th>\n",
              "      <th>Assessed_Total_Final</th>\n",
              "      <th>Retained</th>\n",
              "    </tr>\n",
              "  </thead>\n",
              "  <tbody>\n",
              "    <tr>\n",
              "      <th>4475</th>\n",
              "      <td>One  Calligraphy  duly \n",
              "framed</td>\n",
              "      <td>SP  Mahzoor \n",
              "Ali \n",
              "Ghauri, \n",
              "Chief \n",
              "Security \n",
              "Of...</td>\n",
              "      <td>2022-10-20</td>\n",
              "      <td>Rs.6,000/-</td>\n",
              "      <td>Amount \n",
              "deposited, \n",
              "gift \n",
              "retained</td>\n",
              "      <td>M</td>\n",
              "      <td>Civilian</td>\n",
              "      <td>Senior</td>\n",
              "      <td>42000.0</td>\n",
              "      <td>Y</td>\n",
              "    </tr>\n",
              "    <tr>\n",
              "      <th>4476</th>\n",
              "      <td>Set \n",
              "with \n",
              "a. Torsyk \n",
              "silver Tray  \n",
              "b. Book \n",
              "c...</td>\n",
              "      <td>Mian  Muhammad  Shehbaz  Sharif, \n",
              "Prime Minist...</td>\n",
              "      <td>2022-10-20</td>\n",
              "      <td>-</td>\n",
              "      <td>S.No.(a) \n",
              "displayed at \n",
              "Prime \n",
              "Minister \n",
              "House...</td>\n",
              "      <td>M</td>\n",
              "      <td>Civilian</td>\n",
              "      <td>Senior</td>\n",
              "      <td>85000.0</td>\n",
              "      <td>N</td>\n",
              "    </tr>\n",
              "    <tr>\n",
              "      <th>4477</th>\n",
              "      <td>One \n",
              "Carved \n",
              "wood \n",
              "panel</td>\n",
              "      <td>Mian  Muhammad  Shehbaz  Sharif, \n",
              "Prime Minist...</td>\n",
              "      <td>2022-10-20</td>\n",
              "      <td>-</td>\n",
              "      <td>Deposited \n",
              "in \n",
              "Toshakhana</td>\n",
              "      <td>M</td>\n",
              "      <td>Civilian</td>\n",
              "      <td>Senior</td>\n",
              "      <td>50000.0</td>\n",
              "      <td>N</td>\n",
              "    </tr>\n",
              "    <tr>\n",
              "      <th>4478</th>\n",
              "      <td>a.  One Book \n",
              "b.  One Book \n",
              "c.  One Insignia</td>\n",
              "      <td>Ms.  Marriyum  Aurangzeb,  Minister \n",
              "of Inform...</td>\n",
              "      <td>2022-10-24</td>\n",
              "      <td>Free of cost</td>\n",
              "      <td>In process</td>\n",
              "      <td>F</td>\n",
              "      <td>Civilian</td>\n",
              "      <td>Senior</td>\n",
              "      <td>9000.0</td>\n",
              "      <td>N</td>\n",
              "    </tr>\n",
              "    <tr>\n",
              "      <th>4479</th>\n",
              "      <td>Blanc \n",
              "a.  One  Mont \n",
              "Brief Case \n",
              "Blanc \n",
              "b.  O...</td>\n",
              "      <td>Mr. \n",
              "Bilawal \n",
              "Bhutto \n",
              "Zardari, \n",
              "Minister for F...</td>\n",
              "      <td>2022-10-24</td>\n",
              "      <td>-</td>\n",
              "      <td>Deposited \n",
              "in \n",
              "Toshakhana</td>\n",
              "      <td>M</td>\n",
              "      <td>Civilian</td>\n",
              "      <td>Senior</td>\n",
              "      <td>434000.0</td>\n",
              "      <td>N</td>\n",
              "    </tr>\n",
              "  </tbody>\n",
              "</table>\n",
              "</div>\n",
              "      <button class=\"colab-df-convert\" onclick=\"convertToInteractive('df-829a04d2-aa56-4cc7-9b19-316b9a97c489')\"\n",
              "              title=\"Convert this dataframe to an interactive table.\"\n",
              "              style=\"display:none;\">\n",
              "        \n",
              "  <svg xmlns=\"http://www.w3.org/2000/svg\" height=\"24px\"viewBox=\"0 0 24 24\"\n",
              "       width=\"24px\">\n",
              "    <path d=\"M0 0h24v24H0V0z\" fill=\"none\"/>\n",
              "    <path d=\"M18.56 5.44l.94 2.06.94-2.06 2.06-.94-2.06-.94-.94-2.06-.94 2.06-2.06.94zm-11 1L8.5 8.5l.94-2.06 2.06-.94-2.06-.94L8.5 2.5l-.94 2.06-2.06.94zm10 10l.94 2.06.94-2.06 2.06-.94-2.06-.94-.94-2.06-.94 2.06-2.06.94z\"/><path d=\"M17.41 7.96l-1.37-1.37c-.4-.4-.92-.59-1.43-.59-.52 0-1.04.2-1.43.59L10.3 9.45l-7.72 7.72c-.78.78-.78 2.05 0 2.83L4 21.41c.39.39.9.59 1.41.59.51 0 1.02-.2 1.41-.59l7.78-7.78 2.81-2.81c.8-.78.8-2.07 0-2.86zM5.41 20L4 18.59l7.72-7.72 1.47 1.35L5.41 20z\"/>\n",
              "  </svg>\n",
              "      </button>\n",
              "      \n",
              "  <style>\n",
              "    .colab-df-container {\n",
              "      display:flex;\n",
              "      flex-wrap:wrap;\n",
              "      gap: 12px;\n",
              "    }\n",
              "\n",
              "    .colab-df-convert {\n",
              "      background-color: #E8F0FE;\n",
              "      border: none;\n",
              "      border-radius: 50%;\n",
              "      cursor: pointer;\n",
              "      display: none;\n",
              "      fill: #1967D2;\n",
              "      height: 32px;\n",
              "      padding: 0 0 0 0;\n",
              "      width: 32px;\n",
              "    }\n",
              "\n",
              "    .colab-df-convert:hover {\n",
              "      background-color: #E2EBFA;\n",
              "      box-shadow: 0px 1px 2px rgba(60, 64, 67, 0.3), 0px 1px 3px 1px rgba(60, 64, 67, 0.15);\n",
              "      fill: #174EA6;\n",
              "    }\n",
              "\n",
              "    [theme=dark] .colab-df-convert {\n",
              "      background-color: #3B4455;\n",
              "      fill: #D2E3FC;\n",
              "    }\n",
              "\n",
              "    [theme=dark] .colab-df-convert:hover {\n",
              "      background-color: #434B5C;\n",
              "      box-shadow: 0px 1px 3px 1px rgba(0, 0, 0, 0.15);\n",
              "      filter: drop-shadow(0px 1px 2px rgba(0, 0, 0, 0.3));\n",
              "      fill: #FFFFFF;\n",
              "    }\n",
              "  </style>\n",
              "\n",
              "      <script>\n",
              "        const buttonEl =\n",
              "          document.querySelector('#df-829a04d2-aa56-4cc7-9b19-316b9a97c489 button.colab-df-convert');\n",
              "        buttonEl.style.display =\n",
              "          google.colab.kernel.accessAllowed ? 'block' : 'none';\n",
              "\n",
              "        async function convertToInteractive(key) {\n",
              "          const element = document.querySelector('#df-829a04d2-aa56-4cc7-9b19-316b9a97c489');\n",
              "          const dataTable =\n",
              "            await google.colab.kernel.invokeFunction('convertToInteractive',\n",
              "                                                     [key], {});\n",
              "          if (!dataTable) return;\n",
              "\n",
              "          const docLinkHtml = 'Like what you see? Visit the ' +\n",
              "            '<a target=\"_blank\" href=https://colab.research.google.com/notebooks/data_table.ipynb>data table notebook</a>'\n",
              "            + ' to learn more about interactive tables.';\n",
              "          element.innerHTML = '';\n",
              "          dataTable['output_type'] = 'display_data';\n",
              "          await google.colab.output.renderOutput(dataTable, element);\n",
              "          const docLink = document.createElement('div');\n",
              "          docLink.innerHTML = docLinkHtml;\n",
              "          element.appendChild(docLink);\n",
              "        }\n",
              "      </script>\n",
              "    </div>\n",
              "  </div>\n",
              "  "
            ]
          },
          "metadata": {},
          "execution_count": 80
        }
      ]
    },
    {
      "cell_type": "markdown",
      "source": [
        "### Extract Year and Month from the Datetime column"
      ],
      "metadata": {
        "id": "9XFBliZq9wj-"
      }
    },
    {
      "cell_type": "code",
      "source": [
        "df['Year'] = df['Date'].dt.year\n",
        "df['Month'] = df['Date'].dt.month"
      ],
      "metadata": {
        "id": "w9yZYcVi9vSe"
      },
      "execution_count": null,
      "outputs": []
    },
    {
      "cell_type": "code",
      "source": [
        "df.info()"
      ],
      "metadata": {
        "colab": {
          "base_uri": "https://localhost:8080/"
        },
        "id": "OsEU1oRe6wqC",
        "outputId": "e67aa23f-e028-43cd-85ae-6e4313507db3"
      },
      "execution_count": null,
      "outputs": [
        {
          "output_type": "stream",
          "name": "stdout",
          "text": [
            "<class 'pandas.core.frame.DataFrame'>\n",
            "Int64Index: 4114 entries, 1 to 4479\n",
            "Data columns (total 12 columns):\n",
            " #   Column                Non-Null Count  Dtype         \n",
            "---  ------                --------------  -----         \n",
            " 0   Gift                  4114 non-null   string        \n",
            " 1   Recipient             4114 non-null   string        \n",
            " 2   Date                  4114 non-null   datetime64[ns]\n",
            " 3   Retention_Cost        4114 non-null   string        \n",
            " 4   Remarks               4114 non-null   string        \n",
            " 5   Gender                4114 non-null   object        \n",
            " 6   Dept                  4114 non-null   object        \n",
            " 7   Level                 4114 non-null   object        \n",
            " 8   Assessed_Total_Final  4114 non-null   float64       \n",
            " 9   Retained              4114 non-null   object        \n",
            " 10  Year                  4114 non-null   int64         \n",
            " 11  Month                 4114 non-null   int64         \n",
            "dtypes: datetime64[ns](1), float64(1), int64(2), object(4), string(4)\n",
            "memory usage: 546.9+ KB\n"
          ]
        }
      ]
    },
    {
      "cell_type": "markdown",
      "source": [
        "### Separate out and rename Features and Labels "
      ],
      "metadata": {
        "id": "qA-SVri568Wu"
      }
    },
    {
      "cell_type": "code",
      "source": [
        "df_new = pd.DataFrame({\n",
        "    'X1': df['Gender'],\n",
        "    'X2': df['Dept'], \n",
        "    'X3': df['Level'],\n",
        "    'X3': df['Assessed_Total_Final'],\n",
        "    'X4': df['Year'], \n",
        "    'X5': df['Month'], \n",
        "    'Y' : df['Retained']\n",
        "})"
      ],
      "metadata": {
        "id": "YJja-qwB67YO"
      },
      "execution_count": null,
      "outputs": []
    },
    {
      "cell_type": "markdown",
      "source": [
        "### Encode Text Columns"
      ],
      "metadata": {
        "id": "3Fu1aAus-6v3"
      }
    },
    {
      "cell_type": "code",
      "source": [
        "df_e=df_new.copy()\n",
        "\n",
        "Strings=['X1','X2','X3','Y']\n",
        "\n",
        "for i in Strings:\n",
        "  le = LabelEncoder()\n",
        "  df_e[i] = le.fit_transform(df_e[i])"
      ],
      "metadata": {
        "id": "osmKUFgz-55s"
      },
      "execution_count": null,
      "outputs": []
    },
    {
      "cell_type": "code",
      "source": [
        "df_e.info()"
      ],
      "metadata": {
        "colab": {
          "base_uri": "https://localhost:8080/"
        },
        "id": "iZwmVb_c_XpE",
        "outputId": "e3123d76-ee57-4e69-970b-141bd09b0f43"
      },
      "execution_count": null,
      "outputs": [
        {
          "output_type": "stream",
          "name": "stdout",
          "text": [
            "<class 'pandas.core.frame.DataFrame'>\n",
            "Int64Index: 4114 entries, 1 to 4479\n",
            "Data columns (total 6 columns):\n",
            " #   Column  Non-Null Count  Dtype\n",
            "---  ------  --------------  -----\n",
            " 0   X1      4114 non-null   int64\n",
            " 1   X2      4114 non-null   int64\n",
            " 2   X3      4114 non-null   int64\n",
            " 3   X4      4114 non-null   int64\n",
            " 4   X5      4114 non-null   int64\n",
            " 5   Y       4114 non-null   int64\n",
            "dtypes: int64(6)\n",
            "memory usage: 354.0 KB\n"
          ]
        }
      ]
    },
    {
      "cell_type": "markdown",
      "source": [
        "### Label Analysis - Check if the data is balanced"
      ],
      "metadata": {
        "id": "uo45JVRr0K2w"
      }
    },
    {
      "cell_type": "code",
      "source": [
        "counts = df_e['Y'].value_counts()\n",
        "\n",
        "print(counts)"
      ],
      "metadata": {
        "colab": {
          "base_uri": "https://localhost:8080/"
        },
        "id": "QZgyXQ_T0Oyn",
        "outputId": "ab99049d-8f82-4729-d288-f9011fba5c6e"
      },
      "execution_count": null,
      "outputs": [
        {
          "output_type": "stream",
          "name": "stdout",
          "text": [
            "1    3617\n",
            "0     497\n",
            "Name: Y, dtype: int64\n"
          ]
        }
      ]
    },
    {
      "cell_type": "code",
      "source": [
        "df_e['Y'].hist()\n",
        "#note: the data is unbalanced so we will need to upsample"
      ],
      "metadata": {
        "colab": {
          "base_uri": "https://localhost:8080/",
          "height": 447
        },
        "id": "zr_QbRaR2GnW",
        "outputId": "23d2a67b-527a-4370-ef17-7ec45afa0aa2"
      },
      "execution_count": null,
      "outputs": [
        {
          "output_type": "execute_result",
          "data": {
            "text/plain": [
              "<Axes: >"
            ]
          },
          "metadata": {},
          "execution_count": 87
        },
        {
          "output_type": "display_data",
          "data": {
            "text/plain": [
              "<Figure size 640x480 with 1 Axes>"
            ],
            "image/png": "[encoded data removed]"
          },
          "metadata": {}
        }
      ]
    },
    {
      "cell_type": "markdown",
      "source": [
        "### Upsample the Data"
      ],
      "metadata": {
        "id": "WZduKvFxALLw"
      }
    },
    {
      "cell_type": "code",
      "source": [
        "#In the following line, we create a new dataframe by including only Retained=Y as this class has enough records\n",
        "df_upsampled = df_e[df_e['Y']==1].copy() "
      ],
      "metadata": {
        "id": "IREh4XpO5Zgy"
      },
      "execution_count": null,
      "outputs": []
    },
    {
      "cell_type": "code",
      "source": [
        "df_upsampled.head()"
      ],
      "metadata": {
        "colab": {
          "base_uri": "https://localhost:8080/",
          "height": 206
        },
        "id": "3VtD1Gpr-him",
        "outputId": "69fc6e79-5dbb-4911-a4c2-cd95cefd63a5"
      },
      "execution_count": null,
      "outputs": [
        {
          "output_type": "execute_result",
          "data": {
            "text/plain": [
              "   X1  X2  X3    X4  X5  Y\n",
              "1   1   0  68  2002   1  1\n",
              "2   1   0  56  2002   1  1\n",
              "3   1   0  90  2002   1  1\n",
              "4   1   0  45  2002   1  1\n",
              "5   1   0  41  2002   1  1"
            ],
            "text/html": [
              "\n",
              "  <div id=\"df-da3674da-49b7-45fd-8be0-1ce4cbdb4011\">\n",
              "    <div class=\"colab-df-container\">\n",
              "      <div>\n",
              "<style scoped>\n",
              "    .dataframe tbody tr th:only-of-type {\n",
              "        vertical-align: middle;\n",
              "    }\n",
              "\n",
              "    .dataframe tbody tr th {\n",
              "        vertical-align: top;\n",
              "    }\n",
              "\n",
              "    .dataframe thead th {\n",
              "        text-align: right;\n",
              "    }\n",
              "</style>\n",
              "<table border=\"1\" class=\"dataframe\">\n",
              "  <thead>\n",
              "    <tr style=\"text-align: right;\">\n",
              "      <th></th>\n",
              "      <th>X1</th>\n",
              "      <th>X2</th>\n",
              "      <th>X3</th>\n",
              "      <th>X4</th>\n",
              "      <th>X5</th>\n",
              "      <th>Y</th>\n",
              "    </tr>\n",
              "  </thead>\n",
              "  <tbody>\n",
              "    <tr>\n",
              "      <th>1</th>\n",
              "      <td>1</td>\n",
              "      <td>0</td>\n",
              "      <td>68</td>\n",
              "      <td>2002</td>\n",
              "      <td>1</td>\n",
              "      <td>1</td>\n",
              "    </tr>\n",
              "    <tr>\n",
              "      <th>2</th>\n",
              "      <td>1</td>\n",
              "      <td>0</td>\n",
              "      <td>56</td>\n",
              "      <td>2002</td>\n",
              "      <td>1</td>\n",
              "      <td>1</td>\n",
              "    </tr>\n",
              "    <tr>\n",
              "      <th>3</th>\n",
              "      <td>1</td>\n",
              "      <td>0</td>\n",
              "      <td>90</td>\n",
              "      <td>2002</td>\n",
              "      <td>1</td>\n",
              "      <td>1</td>\n",
              "    </tr>\n",
              "    <tr>\n",
              "      <th>4</th>\n",
              "      <td>1</td>\n",
              "      <td>0</td>\n",
              "      <td>45</td>\n",
              "      <td>2002</td>\n",
              "      <td>1</td>\n",
              "      <td>1</td>\n",
              "    </tr>\n",
              "    <tr>\n",
              "      <th>5</th>\n",
              "      <td>1</td>\n",
              "      <td>0</td>\n",
              "      <td>41</td>\n",
              "      <td>2002</td>\n",
              "      <td>1</td>\n",
              "      <td>1</td>\n",
              "    </tr>\n",
              "  </tbody>\n",
              "</table>\n",
              "</div>\n",
              "      <button class=\"colab-df-convert\" onclick=\"convertToInteractive('df-da3674da-49b7-45fd-8be0-1ce4cbdb4011')\"\n",
              "              title=\"Convert this dataframe to an interactive table.\"\n",
              "              style=\"display:none;\">\n",
              "        \n",
              "  <svg xmlns=\"http://www.w3.org/2000/svg\" height=\"24px\"viewBox=\"0 0 24 24\"\n",
              "       width=\"24px\">\n",
              "    <path d=\"M0 0h24v24H0V0z\" fill=\"none\"/>\n",
              "    <path d=\"M18.56 5.44l.94 2.06.94-2.06 2.06-.94-2.06-.94-.94-2.06-.94 2.06-2.06.94zm-11 1L8.5 8.5l.94-2.06 2.06-.94-2.06-.94L8.5 2.5l-.94 2.06-2.06.94zm10 10l.94 2.06.94-2.06 2.06-.94-2.06-.94-.94-2.06-.94 2.06-2.06.94z\"/><path d=\"M17.41 7.96l-1.37-1.37c-.4-.4-.92-.59-1.43-.59-.52 0-1.04.2-1.43.59L10.3 9.45l-7.72 7.72c-.78.78-.78 2.05 0 2.83L4 21.41c.39.39.9.59 1.41.59.51 0 1.02-.2 1.41-.59l7.78-7.78 2.81-2.81c.8-.78.8-2.07 0-2.86zM5.41 20L4 18.59l7.72-7.72 1.47 1.35L5.41 20z\"/>\n",
              "  </svg>\n",
              "      </button>\n",
              "      \n",
              "  <style>\n",
              "    .colab-df-container {\n",
              "      display:flex;\n",
              "      flex-wrap:wrap;\n",
              "      gap: 12px;\n",
              "    }\n",
              "\n",
              "    .colab-df-convert {\n",
              "      background-color: #E8F0FE;\n",
              "      border: none;\n",
              "      border-radius: 50%;\n",
              "      cursor: pointer;\n",
              "      display: none;\n",
              "      fill: #1967D2;\n",
              "      height: 32px;\n",
              "      padding: 0 0 0 0;\n",
              "      width: 32px;\n",
              "    }\n",
              "\n",
              "    .colab-df-convert:hover {\n",
              "      background-color: #E2EBFA;\n",
              "      box-shadow: 0px 1px 2px rgba(60, 64, 67, 0.3), 0px 1px 3px 1px rgba(60, 64, 67, 0.15);\n",
              "      fill: #174EA6;\n",
              "    }\n",
              "\n",
              "    [theme=dark] .colab-df-convert {\n",
              "      background-color: #3B4455;\n",
              "      fill: #D2E3FC;\n",
              "    }\n",
              "\n",
              "    [theme=dark] .colab-df-convert:hover {\n",
              "      background-color: #434B5C;\n",
              "      box-shadow: 0px 1px 3px 1px rgba(0, 0, 0, 0.15);\n",
              "      filter: drop-shadow(0px 1px 2px rgba(0, 0, 0, 0.3));\n",
              "      fill: #FFFFFF;\n",
              "    }\n",
              "  </style>\n",
              "\n",
              "      <script>\n",
              "        const buttonEl =\n",
              "          document.querySelector('#df-da3674da-49b7-45fd-8be0-1ce4cbdb4011 button.colab-df-convert');\n",
              "        buttonEl.style.display =\n",
              "          google.colab.kernel.accessAllowed ? 'block' : 'none';\n",
              "\n",
              "        async function convertToInteractive(key) {\n",
              "          const element = document.querySelector('#df-da3674da-49b7-45fd-8be0-1ce4cbdb4011');\n",
              "          const dataTable =\n",
              "            await google.colab.kernel.invokeFunction('convertToInteractive',\n",
              "                                                     [key], {});\n",
              "          if (!dataTable) return;\n",
              "\n",
              "          const docLinkHtml = 'Like what you see? Visit the ' +\n",
              "            '<a target=\"_blank\" href=https://colab.research.google.com/notebooks/data_table.ipynb>data table notebook</a>'\n",
              "            + ' to learn more about interactive tables.';\n",
              "          element.innerHTML = '';\n",
              "          dataTable['output_type'] = 'display_data';\n",
              "          await google.colab.output.renderOutput(dataTable, element);\n",
              "          const docLink = document.createElement('div');\n",
              "          docLink.innerHTML = docLinkHtml;\n",
              "          element.appendChild(docLink);\n",
              "        }\n",
              "      </script>\n",
              "    </div>\n",
              "  </div>\n",
              "  "
            ]
          },
          "metadata": {},
          "execution_count": 89
        }
      ]
    },
    {
      "cell_type": "code",
      "source": [
        "df_upsampled = pd.concat([df_upsampled, resample(df_e[(df_e['Y']==0)], n_samples=3500)],axis=0)\n",
        "df_upsampled = df_upsampled.reset_index(drop=True) #reset the index\n",
        "df_upsampled['Y'].hist()"
      ],
      "metadata": {
        "colab": {
          "base_uri": "https://localhost:8080/",
          "height": 447
        },
        "id": "ltqBA0y45w7s",
        "outputId": "13d78b1f-bfc3-4b1f-c417-4fae755ccbae"
      },
      "execution_count": null,
      "outputs": [
        {
          "output_type": "execute_result",
          "data": {
            "text/plain": [
              "<Axes: >"
            ]
          },
          "metadata": {},
          "execution_count": 90
        },
        {
          "output_type": "display_data",
          "data": {
            "text/plain": [
              "<Figure size 640x480 with 1 Axes>"
            ],
            "image/png": "[encoded data removed]"
          },
          "metadata": {}
        }
      ]
    },
    {
      "cell_type": "code",
      "source": [
        "df_upsampled.info()"
      ],
      "metadata": {
        "colab": {
          "base_uri": "https://localhost:8080/"
        },
        "id": "qAVkfIPH88Dv",
        "outputId": "85a5029b-8277-49b6-df86-f7f0640a6def"
      },
      "execution_count": null,
      "outputs": [
        {
          "output_type": "stream",
          "name": "stdout",
          "text": [
            "<class 'pandas.core.frame.DataFrame'>\n",
            "RangeIndex: 7117 entries, 0 to 7116\n",
            "Data columns (total 6 columns):\n",
            " #   Column  Non-Null Count  Dtype\n",
            "---  ------  --------------  -----\n",
            " 0   X1      7117 non-null   int64\n",
            " 1   X2      7117 non-null   int64\n",
            " 2   X3      7117 non-null   int64\n",
            " 3   X4      7117 non-null   int64\n",
            " 4   X5      7117 non-null   int64\n",
            " 5   Y       7117 non-null   int64\n",
            "dtypes: int64(6)\n",
            "memory usage: 333.7 KB\n"
          ]
        }
      ]
    },
    {
      "cell_type": "markdown",
      "source": [
        "### Normalize the Data"
      ],
      "metadata": {
        "id": "kUXYoivX10lL"
      }
    },
    {
      "cell_type": "code",
      "source": [
        "scaler = StandardScaler()\n",
        "scaler.fit(df_upsampled.drop(columns='Y'))\n",
        "\n",
        "data_scaled = scaler.transform(df_upsampled.drop(columns='Y'))\n",
        "df_normal = pd.DataFrame(data_scaled, columns=df_upsampled.drop(columns='Y').columns)"
      ],
      "metadata": {
        "id": "uAIoT37i14aP"
      },
      "execution_count": null,
      "outputs": []
    },
    {
      "cell_type": "markdown",
      "source": [
        "## 2. Data Visualization [10 points]: \n",
        "Exploring the data visually, and analyze labels or data trends. This data visualization step helps you have a basic understanding of the data to define a reasonable problem statement."
      ],
      "metadata": {
        "id": "kCvIB_LS7pEy"
      }
    },
    {
      "cell_type": "markdown",
      "source": [
        "The following code block creates a heatmap that displays the correlation between the features. The darker the color, the stronger the correlation."
      ],
      "metadata": {
        "id": "54LwlEEHGA06"
      }
    },
    {
      "cell_type": "code",
      "source": [
        "corr=abs(df_normal.corr())\n",
        "\n",
        "f, ax = plt.subplots()\n",
        "sns.heatmap(corr, mask=np.zeros_like(corr, dtype=np.bool), cmap=sns.diverging_palette(220, 10, as_cmap=True),\n",
        "            square=True, ax=ax)"
      ],
      "metadata": {
        "id": "2LtpXkIA8CgG",
        "colab": {
          "base_uri": "https://localhost:8080/",
          "height": 524
        },
        "outputId": "83b509a9-e606-4abf-a5b2-b14f68970667"
      },
      "execution_count": null,
      "outputs": [
        {
          "output_type": "stream",
          "name": "stderr",
          "text": [
            "<ipython-input-93-534790cd89b5>:4: DeprecationWarning: `np.bool` is a deprecated alias for the builtin `bool`. To silence this warning, use `bool` by itself. Doing this will not modify any behavior and is safe. If you specifically wanted the numpy scalar type, use `np.bool_` here.\n",
            "Deprecated in NumPy 1.20; for more details and guidance: https://numpy.org/devdocs/release/1.20.0-notes.html#deprecations\n",
            "  sns.heatmap(corr, mask=np.zeros_like(corr, dtype=np.bool), cmap=sns.diverging_palette(220, 10, as_cmap=True),\n"
          ]
        },
        {
          "output_type": "execute_result",
          "data": {
            "text/plain": [
              "<Axes: >"
            ]
          },
          "metadata": {},
          "execution_count": 93
        },
        {
          "output_type": "display_data",
          "data": {
            "text/plain": [
              "<Figure size 640x480 with 2 Axes>"
            ],
            "image/png": "[encoded data removed]"
          },
          "metadata": {}
        }
      ]
    },
    {
      "cell_type": "markdown",
      "source": [
        "The following code block creates a heatmap that displays the correlation between the label and each feature. The darker the color, the stronger the correlation."
      ],
      "metadata": {
        "id": "xszdSz8jGEVa"
      }
    },
    {
      "cell_type": "code",
      "source": [
        "df_final = pd.concat([df_upsampled['Y'], df_normal], axis=1)\n",
        "\n",
        "# create a heatmap to visualize the correlation between features and the label\n",
        "sns.heatmap(df_final.corr())"
      ],
      "metadata": {
        "colab": {
          "base_uri": "https://localhost:8080/",
          "height": 452
        },
        "id": "G6pBFCmiE8YL",
        "outputId": "f5100688-acd4-4253-870a-38ae8467731c"
      },
      "execution_count": null,
      "outputs": [
        {
          "output_type": "execute_result",
          "data": {
            "text/plain": [
              "<Axes: >"
            ]
          },
          "metadata": {},
          "execution_count": 94
        },
        {
          "output_type": "display_data",
          "data": {
            "text/plain": [
              "<Figure size 640x480 with 2 Axes>"
            ],
            "image/png": "[encoded data removed]"
          },
          "metadata": {}
        }
      ]
    },
    {
      "cell_type": "code",
      "source": [
        "sns.pairplot(df_upsampled[['X1','X2','X3', 'X4', 'X5', 'Y']])"
      ],
      "metadata": {
        "colab": {
          "base_uri": "https://localhost:8080/",
          "height": 1000
        },
        "id": "ChJDbhR0cCJ0",
        "outputId": "9aa078fe-3bb0-4b53-bc68-ca1ba1465dd6"
      },
      "execution_count": null,
      "outputs": [
        {
          "output_type": "execute_result",
          "data": {
            "text/plain": [
              "<seaborn.axisgrid.PairGrid at 0x7f1b093a1990>"
            ]
          },
          "metadata": {},
          "execution_count": 95
        },
        {
          "output_type": "display_data",
          "data": {
            "text/plain": [
              "<Figure size 1500x1500 with 42 Axes>"
            ],
            "image/png": "[encoded data removed]"
          },
          "metadata": {}
        }
      ]
    },
    {
      "cell_type": "markdown",
      "source": [
        "## 3. Problem statement [10 points]: \n",
        "\n",
        "**The problem I am trying to solve is classification. **\n",
        "\n",
        "Using the Dataset acquired from Govt of Pakistan's official record, I would like to solve a binary classification problem:\n",
        "\n",
        "*   **Y** Column is the label and it is either Yes (1) or No (0) to represent whether a gift given to a government representative was retained by the person or not (i.e. deposted in the treasury)\n",
        "*   And the rest of columns are features \n",
        "> *   X1: gender (Male or Female)\n",
        "> *   X2: Department (Civil or Military)\n",
        "> *   X3 is value of the gift (in Pakistani Rupees)\n",
        "> *   X4 is month\n",
        "> *   X5 is year\n",
        "\n",
        "Therefore, we would like to train a model which takes the features and predicts whether a gift will be retained or deposited with the treasury!\n",
        "\n",
        "My evaluation metric will be F1 Score.  "
      ],
      "metadata": {
        "id": "j5NS4oOw7pZW"
      }
    },
    {
      "cell_type": "markdown",
      "source": [
        "## 4. Features Selection/Extraction [10 points]: \n",
        "Looking at the histograms for our features below, we can see that X1 hardly ever changes, and presumably as a neglibible effect on the label. Therefore, we can drop this feature from our model. \n",
        "We will train the model(s) using X2, X3, X3, and X5 only."
      ],
      "metadata": {
        "id": "sn1xFFfQ7QaK"
      }
    },
    {
      "cell_type": "code",
      "source": [
        "# create a 2x3 grid of subplots for the histograms\n",
        "fig, axs = plt.subplots(2, 3, figsize=(12, 8))\n",
        "\n",
        "# loop through each column and create a histogram in the corresponding subplot\n",
        "for i, col in enumerate(df_final.columns):\n",
        "    ax = axs[i//3][i%3]\n",
        "    ax.hist(df_final[col], bins=20)\n",
        "    ax.set_title(col)\n",
        "\n",
        "plt.tight_layout()\n",
        "plt.show()"
      ],
      "metadata": {
        "colab": {
          "base_uri": "https://localhost:8080/",
          "height": 807
        },
        "id": "e2AY_qnDdm7_",
        "outputId": "0a98ee26-8782-4f85-d2c5-3f0661160cc4"
      },
      "execution_count": null,
      "outputs": [
        {
          "output_type": "display_data",
          "data": {
            "text/plain": [
              "<Figure size 1200x800 with 6 Axes>"
            ],
            "image/png": "[encoded data removed]"
          },
          "metadata": {}
        }
      ]
    },
    {
      "cell_type": "code",
      "source": [
        "# split data for train (70%) and test (30%), and drop X1\n",
        "X_train, X_test, Y_train, Y_test = train_test_split(df_final.drop(['X1','Y'], axis=1), df_final['Y'], test_size=0.3, random_state=10)\n",
        "\n",
        "Y_train.hist()\n",
        "Y_test.hist()"
      ],
      "metadata": {
        "id": "VasAevCP89RA",
        "colab": {
          "base_uri": "https://localhost:8080/",
          "height": 447
        },
        "outputId": "d1ddd193-0080-42d3-f374-1f87002e2777"
      },
      "execution_count": null,
      "outputs": [
        {
          "output_type": "execute_result",
          "data": {
            "text/plain": [
              "<Axes: >"
            ]
          },
          "metadata": {},
          "execution_count": 98
        },
        {
          "output_type": "display_data",
          "data": {
            "text/plain": [
              "<Figure size 640x480 with 1 Axes>"
            ],
            "image/png": "[encoded data removed]"
          },
          "metadata": {}
        }
      ]
    },
    {
      "cell_type": "markdown",
      "source": [
        "## 5. Comparing different models (Features are fixed) [20 points]:\n",
        "After step 4, you selected your features and now, you will train different models and compare their results. For example in the case of classification, someone can compare logistic regression, linear classifier, and MLP classifier. I should reiterate here that the final accuracy is not important! It is important that your comparison logic is correct and all evaluation metrics and graphs are included."
      ],
      "metadata": {
        "id": "xPtYkELw8bG1"
      }
    },
    {
      "cell_type": "markdown",
      "source": [
        "### Logistic Regression"
      ],
      "metadata": {
        "id": "H37Svz5EMTkW"
      }
    },
    {
      "cell_type": "code",
      "source": [
        "model_LGR = LogisticRegression(max_iter=2000) #since the data has been balanced\n",
        "model_LGR.fit(X_train,Y_train)\n",
        "\n",
        "Y_test_predicted_LGR = model_LGR.predict(X_test)\n",
        "\n",
        "#make confusion matrix\n",
        "confusion_matrix_LGR = confusion_matrix(Y_test, Y_test_predicted_LGR)\n",
        "ConfusionMatrixDisplay(confusion_matrix = confusion_matrix_LGR).plot()"
      ],
      "metadata": {
        "id": "eHwmAzSv8-3V",
        "colab": {
          "base_uri": "https://localhost:8080/",
          "height": 466
        },
        "outputId": "e3caf359-55a8-4ed9-8e9e-5a9a15fe4a4e"
      },
      "execution_count": null,
      "outputs": [
        {
          "output_type": "execute_result",
          "data": {
            "text/plain": [
              "<sklearn.metrics._plot.confusion_matrix.ConfusionMatrixDisplay at 0x7f1b05c0e650>"
            ]
          },
          "metadata": {},
          "execution_count": 99
        },
        {
          "output_type": "display_data",
          "data": {
            "text/plain": [
              "<Figure size 640x480 with 2 Axes>"
            ],
            "image/png": "[encoded data removed]"
          },
          "metadata": {}
        }
      ]
    },
    {
      "cell_type": "markdown",
      "source": [
        "### Multi-layer Perceptron with Hidden Layer"
      ],
      "metadata": {
        "id": "aZgktOvIa6UJ"
      }
    },
    {
      "cell_type": "code",
      "source": [
        "MLP = MLPClassifier(activation='logistic',solver='sgd',hidden_layer_sizes=(5),max_iter=5000)\n",
        "MLP.fit(X_train, Y_train)\n",
        "\n",
        "Y_test_predicted_MLP=MLP.predict(X_test)\n",
        "\n",
        "confusion_matrix_MLP = confusion_matrix(Y_test, Y_test_predicted_MLP)\n",
        "ConfusionMatrixDisplay(confusion_matrix = confusion_matrix_MLP).plot()"
      ],
      "metadata": {
        "colab": {
          "base_uri": "https://localhost:8080/",
          "height": 466
        },
        "id": "Elc8fjr8aw9-",
        "outputId": "71ed411b-9d49-4ab0-99a1-82369fc2e4cf"
      },
      "execution_count": null,
      "outputs": [
        {
          "output_type": "execute_result",
          "data": {
            "text/plain": [
              "<sklearn.metrics._plot.confusion_matrix.ConfusionMatrixDisplay at 0x7f1afd637e80>"
            ]
          },
          "metadata": {},
          "execution_count": 100
        },
        {
          "output_type": "display_data",
          "data": {
            "text/plain": [
              "<Figure size 640x480 with 2 Axes>"
            ],
            "image/png": "[encoded data removed]"
          },
          "metadata": {}
        }
      ]
    },
    {
      "cell_type": "markdown",
      "source": [
        "### KNN"
      ],
      "metadata": {
        "id": "ugaHwOEgaKag"
      }
    },
    {
      "cell_type": "code",
      "source": [
        "KNN = KNeighborsClassifier(n_neighbors=5) # Using n=5\n",
        "KNN.fit(X_train, Y_train)\n",
        "Y_test_predicted_KNN=KNN.predict(X_test)\n",
        "\n",
        "confusion_matrix_KNN = confusion_matrix(Y_test, Y_test_predicted_KNN)\n",
        "ConfusionMatrixDisplay(confusion_matrix = confusion_matrix_KNN).plot()"
      ],
      "metadata": {
        "colab": {
          "base_uri": "https://localhost:8080/",
          "height": 466
        },
        "id": "8sK1CfAtZ49C",
        "outputId": "18991dc8-4c36-4208-f8d5-4ae479a5b423"
      },
      "execution_count": null,
      "outputs": [
        {
          "output_type": "execute_result",
          "data": {
            "text/plain": [
              "<sklearn.metrics._plot.confusion_matrix.ConfusionMatrixDisplay at 0x7f1afd65d390>"
            ]
          },
          "metadata": {},
          "execution_count": 101
        },
        {
          "output_type": "display_data",
          "data": {
            "text/plain": [
              "<Figure size 640x480 with 2 Axes>"
            ],
            "image/png": "[encoded data removed]"
          },
          "metadata": {}
        }
      ]
    },
    {
      "cell_type": "markdown",
      "source": [
        "### Linear Support Vector Classification (SVC)"
      ],
      "metadata": {
        "id": "F3O69j_IgNLr"
      }
    },
    {
      "cell_type": "code",
      "source": [
        "svc_model = LinearSVC()\n",
        "svc_model.fit(X_train, Y_train)\n",
        "Y_test_predicted_SVC=svc_model.predict(X_test)\n",
        "\n",
        "confusion_matrix_SVC = confusion_matrix(Y_test, Y_test_predicted_SVC)\n",
        "ConfusionMatrixDisplay(confusion_matrix = confusion_matrix_SVC).plot()"
      ],
      "metadata": {
        "colab": {
          "base_uri": "https://localhost:8080/",
          "height": 466
        },
        "id": "-Y-vM-FKfq91",
        "outputId": "9c93d8fa-3b8a-4700-f065-0bb0fd6ad15f"
      },
      "execution_count": null,
      "outputs": [
        {
          "output_type": "execute_result",
          "data": {
            "text/plain": [
              "<sklearn.metrics._plot.confusion_matrix.ConfusionMatrixDisplay at 0x7f1b0698a260>"
            ]
          },
          "metadata": {},
          "execution_count": 102
        },
        {
          "output_type": "display_data",
          "data": {
            "text/plain": [
              "<Figure size 640x480 with 2 Axes>"
            ],
            "image/png": "[encoded data removed]"
          },
          "metadata": {}
        }
      ]
    },
    {
      "cell_type": "markdown",
      "source": [
        "### Result Evaluation"
      ],
      "metadata": {
        "id": "6P5wjg2CTVdb"
      }
    },
    {
      "cell_type": "markdown",
      "source": [
        "As the results below show, KNN is the most suitable algorithm with the given features to predict whether or not a gift will be deposited with the treasury."
      ],
      "metadata": {
        "id": "mBrf8WtVbRSd"
      }
    },
    {
      "cell_type": "code",
      "source": [
        "print ('Score for Logistic Regression')\n",
        "print(classification_report(Y_test, Y_test_predicted_LGR))\n",
        "print ('Score for Multi-layer Perceptron - hidden layer')\n",
        "print(classification_report(Y_test, Y_test_predicted_MLP))\n",
        "print ('Score for KNN')\n",
        "print(classification_report(Y_test, Y_test_predicted_KNN))\n",
        "print ('Score for SVC')\n",
        "print(classification_report(Y_test, Y_test_predicted_SVC))\n"
      ],
      "metadata": {
        "colab": {
          "base_uri": "https://localhost:8080/"
        },
        "id": "lwFeD_C-TYY_",
        "outputId": "5a2ac4d1-ce33-44ee-dfad-ff4469970597"
      },
      "execution_count": null,
      "outputs": [
        {
          "output_type": "stream",
          "name": "stdout",
          "text": [
            "Score for Logistic Regression\n",
            "              precision    recall  f1-score   support\n",
            "\n",
            "           0       0.65      0.64      0.65      1024\n",
            "           1       0.67      0.69      0.68      1112\n",
            "\n",
            "    accuracy                           0.67      2136\n",
            "   macro avg       0.66      0.66      0.66      2136\n",
            "weighted avg       0.67      0.67      0.67      2136\n",
            "\n",
            "Score for Multi-layer Perceptron - hidden layer\n",
            "              precision    recall  f1-score   support\n",
            "\n",
            "           0       0.66      0.65      0.65      1024\n",
            "           1       0.68      0.69      0.68      1112\n",
            "\n",
            "    accuracy                           0.67      2136\n",
            "   macro avg       0.67      0.67      0.67      2136\n",
            "weighted avg       0.67      0.67      0.67      2136\n",
            "\n",
            "Score for KNN\n",
            "              precision    recall  f1-score   support\n",
            "\n",
            "           0       0.79      0.95      0.87      1024\n",
            "           1       0.94      0.77      0.85      1112\n",
            "\n",
            "    accuracy                           0.86      2136\n",
            "   macro avg       0.87      0.86      0.86      2136\n",
            "weighted avg       0.87      0.86      0.86      2136\n",
            "\n",
            "Score for SVC\n",
            "              precision    recall  f1-score   support\n",
            "\n",
            "           0       0.66      0.64      0.65      1024\n",
            "           1       0.68      0.69      0.68      1112\n",
            "\n",
            "    accuracy                           0.67      2136\n",
            "   macro avg       0.67      0.67      0.67      2136\n",
            "weighted avg       0.67      0.67      0.67      2136\n",
            "\n"
          ]
        }
      ]
    },
    {
      "cell_type": "markdown",
      "source": [
        "## 6. Unsupervised + Supervised [20 points]:  \n",
        "After you compared different models in Step 5, you need to develop an Unsupervised/Supervised pipeline and apply it to your data.  \n",
        "\n",
        "You need to first apply a clustering method like KMeans or SOM, group your data into clusters \n",
        "and then apply the regression/classification model for each cluster. \n",
        "You need to present your ensemble model result and try to improve the results you achieved in step 5. Improving the result is not always possible given the characteristics of the dataset selected but you need to document your effort."
      ],
      "metadata": {
        "id": "qo5QdzFm8Pnb"
      }
    },
    {
      "cell_type": "markdown",
      "source": [
        "###Step 1 - Unsupervised Learning using KMeans"
      ],
      "metadata": {
        "id": "XX6uC-2JnuU8"
      }
    },
    {
      "cell_type": "code",
      "source": [
        "kmeans = KMeans(n_clusters=4,init='random') #use different init if needed.\n",
        "# Fitting the input data\n",
        "kmeans = kmeans.fit(X_train)\n",
        "# Getting the cluster labels\n",
        "clusters_assigned = kmeans.predict(X_train)\n",
        "# Centroid values\n",
        "centroids = kmeans.cluster_centers_\n",
        "# replace each data point with the centroid of its assigned cluster\n",
        "X_train_qnt = centroids[clusters_assigned]\n"
      ],
      "metadata": {
        "colab": {
          "base_uri": "https://localhost:8080/"
        },
        "id": "T8iZZmiEgheU",
        "outputId": "57657c48-ef41-4357-cce7-ff39fec0bcee"
      },
      "execution_count": null,
      "outputs": [
        {
          "output_type": "stream",
          "name": "stderr",
          "text": [
            "/usr/local/lib/python3.10/dist-packages/sklearn/cluster/_kmeans.py:870: FutureWarning: The default value of `n_init` will change from 10 to 'auto' in 1.4. Set the value of `n_init` explicitly to suppress the warning\n",
            "  warnings.warn(\n"
          ]
        }
      ]
    },
    {
      "cell_type": "markdown",
      "source": [
        "### Step 2 - Supervised Learning using Logistic Regression"
      ],
      "metadata": {
        "id": "G4jiTgzJnzg9"
      }
    },
    {
      "cell_type": "code",
      "source": [
        "LGR_model_2nd_layer = LogisticRegression(max_iter=1000)\n",
        "LGR_model_2nd_layer.fit(X_train_qnt,Y_train)\n",
        "LGR_model_2nd_layer_prediction=LGR_model_2nd_layer.predict(centroids[kmeans.predict(X_test)])\n",
        "\n",
        "confusion_matrix_2nd_layer = confusion_matrix(Y_test, LGR_model_2nd_layer_prediction)\n",
        "ConfusionMatrixDisplay(confusion_matrix = confusion_matrix_2nd_layer).plot()\n"
      ],
      "metadata": {
        "colab": {
          "base_uri": "https://localhost:8080/",
          "height": 466
        },
        "id": "XHsSfZBilsyV",
        "outputId": "4af50389-01c4-43fb-f6cc-32feca916ee7"
      },
      "execution_count": null,
      "outputs": [
        {
          "output_type": "execute_result",
          "data": {
            "text/plain": [
              "<sklearn.metrics._plot.confusion_matrix.ConfusionMatrixDisplay at 0x7f1afd790eb0>"
            ]
          },
          "metadata": {},
          "execution_count": 106
        },
        {
          "output_type": "display_data",
          "data": {
            "text/plain": [
              "<Figure size 640x480 with 2 Axes>"
            ],
            "image/png": "[encoded data removed]"
          },
          "metadata": {}
        }
      ]
    },
    {
      "cell_type": "code",
      "source": [
        "print ('Score for Unsupervised Learning (Kmeans) with Logistic Regression (2nd layer)')\n",
        "print(classification_report(Y_test, LGR_model_2nd_layer_prediction))"
      ],
      "metadata": {
        "colab": {
          "base_uri": "https://localhost:8080/"
        },
        "id": "f1fUGba1mXSq",
        "outputId": "90e5c6c7-d975-4513-c4c7-7b1f516c5524"
      },
      "execution_count": null,
      "outputs": [
        {
          "output_type": "stream",
          "name": "stdout",
          "text": [
            "Score for Unsupervised Learning (Kmeans) with Logistic Regression (2nd layer)\n",
            "              precision    recall  f1-score   support\n",
            "\n",
            "           0       0.73      0.42      0.54      1024\n",
            "           1       0.62      0.86      0.72      1112\n",
            "\n",
            "    accuracy                           0.65      2136\n",
            "   macro avg       0.67      0.64      0.63      2136\n",
            "weighted avg       0.67      0.65      0.63      2136\n",
            "\n"
          ]
        }
      ]
    },
    {
      "cell_type": "markdown",
      "source": [
        "## 7. Conclusion and result justification [10 points]: \n",
        "By combining Unsupervised with Supervised learning, we did not achieve a significant improvement - which could be because of the pecularities of the data.\n",
        "Given the dataset/features available, we will stick with KNN based model, which has an accuracy of 85% in our case. \n",
        "Choosing a subset of features seems to have worked given a relatively high accuracy achieved during one model (KNN).\n",
        "\n",
        "A key learning for me personally is to focus on the dataset, since I ended up spending a significant amount of time in importing and manipulating the data that was originally in PDF. However, I must say that I have learnt quite a bit about not only machine learning models but also pandas data manipulation including indexing and slicing of the dataframes!\n",
        "\n",
        "Overall, developing a framework to apply machine learning on a dataset through this project seems like a great learning for dealing with future data science problems!"
      ],
      "metadata": {
        "id": "tm-QRxDA8MAs"
      }
    },
    {
      "cell_type": "code",
      "source": [],
      "metadata": {
        "id": "dwfh6_5EpUgA"
      },
      "execution_count": null,
      "outputs": []
    }
  ]
}